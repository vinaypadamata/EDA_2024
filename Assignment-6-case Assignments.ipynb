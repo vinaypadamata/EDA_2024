{
 "cells": [
  {
   "cell_type": "code",
   "execution_count": 9,
   "id": "544d6b91-23d9-4741-bb3f-f39ec8821886",
   "metadata": {},
   "outputs": [
    {
     "name": "stdout",
     "output_type": "stream",
     "text": [
      "1100\n"
     ]
    }
   ],
   "source": [
    "# Case-1:\n",
    "def addition1(n1,n2=600):\n",
    "    add=n1+n2\n",
    "    print(add)\n",
    "addition(500)\n",
    "#first we are defining function\n",
    "#while define the function we given n2=600\n",
    "#now we are calling the function\n"
   ]
  },
  {
   "cell_type": "code",
   "execution_count": 5,
   "id": "fe0f2447-ac6f-4e5b-a497-6a63a1af9db4",
   "metadata": {},
   "outputs": [
    {
     "name": "stdout",
     "output_type": "stream",
     "text": [
      "1500\n"
     ]
    }
   ],
   "source": [
    "# Case-2:\n",
    "def addition2(n1,n2=600):\n",
    "    add=n1+n2\n",
    "    print(add)\n",
    "addition(500,1000)\n",
    "\n",
    "# First we are defining function\n",
    "# while define the function we given n2=600\n",
    "# now we are calling the function,\n",
    "# while we are calling n2=1000\n",
    "# So value will be overwrite\n",
    "# Python always takes the latest value"
   ]
  },
  {
   "cell_type": "code",
   "execution_count": 11,
   "id": "fa1e779e-0c20-4392-9478-ebd3c807eec8",
   "metadata": {},
   "outputs": [
    {
     "name": "stdout",
     "output_type": "stream",
     "text": [
      "2500\n"
     ]
    }
   ],
   "source": [
    "#case-3\n",
    "def addition3(n1,n2=600):\n",
    "    n2=2000\n",
    "    add=n1+n2\n",
    "    print(add)\n",
    "addition(500,1000)\n",
    "#step-1:defining the function n2=600\n",
    "#step-2:calling the function n2=1000\n",
    "#step-3:runnig the function n2=2000\n"
   ]
  },
  {
   "cell_type": "code",
   "execution_count": 13,
   "id": "fe7463ba-f829-4930-b167-8e3d9003e1b3",
   "metadata": {},
   "outputs": [
    {
     "name": "stdout",
     "output_type": "stream",
     "text": [
      "200\n"
     ]
    }
   ],
   "source": [
    "#case-4\n",
    "def product():\n",
    "    a = 10 \n",
    "    b = 20 \n",
    "    m = a*b\n",
    "    print(m)\n",
    "product()    \n",
    "#step-1:local value intialized a1=10 and b1=20\n",
    "#step-2:defining function m=a*b\n",
    "#step-3:now we are calling the function\n",
    "#step-4:running the function "
   ]
  },
  {
   "cell_type": "code",
   "execution_count": 15,
   "id": "a6119865-57c1-43c9-b073-3f80a94ad487",
   "metadata": {},
   "outputs": [
    {
     "name": "stdout",
     "output_type": "stream",
     "text": [
      "20000\n"
     ]
    }
   ],
   "source": [
    "#case-5\n",
    "a1=100\n",
    "b1=200\n",
    "def product1():\n",
    "    m1=a1*b1\n",
    "    print(m1)\n",
    "product1() \n",
    "#step-1:global value intializing a1 = 100 and b1 = 200\n",
    "#step-2:defining function\n",
    "#step-3:now we are calling the function\n",
    "#step-4:running the function\n",
    "#step-5:the answer will be 20000"
   ]
  },
  {
   "cell_type": "code",
   "execution_count": 19,
   "id": "5dfcaaa4-7d59-4e8c-89a2-ca0bc3f2e308",
   "metadata": {},
   "outputs": [
    {
     "name": "stdout",
     "output_type": "stream",
     "text": [
      "4200\n"
     ]
    }
   ],
   "source": [
    "#case-6\n",
    "a1=100\n",
    "b1=200\n",
    "def sum(a1=4000):\n",
    "    add1 = a1+b1\n",
    "    print(add1)\n",
    "sum()\n",
    "#global values intialized a1 = 100 b1=200\n",
    "#step-2:defining the function\n",
    "#step-3:while defining the function we given a1=4000\n",
    "#step-4:now we are calling the function\n",
    "#step-5:running the function\n",
    "#step-6:the answer will be 4200"
   ]
  },
  {
   "cell_type": "code",
   "execution_count": 21,
   "id": "4ac1df50-1ffe-47d8-80fd-2fa3be3e3fa9",
   "metadata": {},
   "outputs": [
    {
     "name": "stdout",
     "output_type": "stream",
     "text": [
      "2020\n"
     ]
    }
   ],
   "source": [
    "#case-7\n",
    "a1 = 10\n",
    "b1 = 20\n",
    "def add12(a1=500):\n",
    "    add1=a1+b1\n",
    "    print(add1)\n",
    "add12(a1=2000)\n",
    "#global values intialized a1 = 10 b1=20\n",
    "#step-2:defining the function \n",
    "#step-3:while defining the function we given a1=500\n",
    "#step-4:now we are calling the function we given the value a1=2000\n",
    "#step-5:running the function\n",
    "#step-6:the answer will be 2020"
   ]
  },
  {
   "cell_type": "code",
   "execution_count": 31,
   "id": "0061200f-e3ca-4051-97a1-6574b4bd7d0f",
   "metadata": {},
   "outputs": [
    {
     "ename": "TypeError",
     "evalue": "add13() got an unexpected keyword argument 'b1'",
     "output_type": "error",
     "traceback": [
      "\u001b[1;31m---------------------------------------------------------------------------\u001b[0m",
      "\u001b[1;31mTypeError\u001b[0m                                 Traceback (most recent call last)",
      "Cell \u001b[1;32mIn[31], line 7\u001b[0m\n\u001b[0;32m      5\u001b[0m     add4\u001b[38;5;241m=\u001b[39ma1\u001b[38;5;241m+\u001b[39mb1\n\u001b[0;32m      6\u001b[0m     \u001b[38;5;28mprint\u001b[39m(add4)\n\u001b[1;32m----> 7\u001b[0m add13(a1\u001b[38;5;241m=\u001b[39m\u001b[38;5;241m2000\u001b[39m,b1\u001b[38;5;241m=\u001b[39m\u001b[38;5;241m3000\u001b[39m)\n",
      "\u001b[1;31mTypeError\u001b[0m: add13() got an unexpected keyword argument 'b1'"
     ]
    }
   ],
   "source": [
    "#case-8\n",
    "a1 = 100\n",
    "b1 = 200\n",
    "def add13(a1=1000):\n",
    "    add4=a1+b1\n",
    "    print(add4)\n",
    "add13(a1=2000,b1=3000)\n",
    "#global values intialized a1 = 100 b1=200\n",
    "#step-2:defining the function \n",
    "#step-3:while defining the function we given a1=1000\n",
    "#step-4:now we are calling the function we given the value a1=2000 , b1=3000\n",
    "#step-5:running the function\n",
    "#step-6:now we will get an error because b1 value is not defined in the argument\n",
    "#step-7:if we defined the b1 value inthe argument then we will get the answer 5000"
   ]
  },
  {
   "cell_type": "code",
   "execution_count": 37,
   "id": "5e028bca-edcd-476a-9e3e-450ddbd368e3",
   "metadata": {},
   "outputs": [
    {
     "name": "stdout",
     "output_type": "stream",
     "text": [
      "5200\n"
     ]
    }
   ],
   "source": [
    "#Case-8:\n",
    "a1=100\n",
    "b1=200\n",
    "def add14(a1=2000):\n",
    "    a1=5000\n",
    "    add1=a1+b1\n",
    "    print(add1)\n",
    "add14(a1=2000)\n",
    "#step-1:global values intialized a1 = 100 b1=200\n",
    "#step-2:defining the function \n",
    "#step-3:while defining the function we given a1=2000 only\n",
    "#step-4:now we are calling the function we given the value a1=2000 only \n",
    "#step-5:running the function\n",
    "#step-6:then the answer will be 5200"
   ]
  },
  {
   "cell_type": "code",
   "execution_count": 39,
   "id": "12d8387a-4865-4262-976f-7624f89c2460",
   "metadata": {},
   "outputs": [
    {
     "name": "stdout",
     "output_type": "stream",
     "text": [
      "5200\n"
     ]
    }
   ],
   "source": [
    "# Case-9:\n",
    "a1=100\n",
    "b1=200\n",
    "def add11(a1=1000):\n",
    "  a1=5000\n",
    "  add1=a1+b1\n",
    "  print(add1)\n",
    "a1=6000\n",
    "add11(a1=2000)\n",
    "#step-1:global values intialized a1 = 100 b1=200\n",
    "#step-2:defining the function a = 1000\n",
    "#step-3:while defining the function we given a1=6000 \n",
    "#step-4:now we are calling the function we given the value a1=2000 \n",
    "#step-5:running the function a1 = 5000\n",
    "#step-6:then the answer will be 5200"
   ]
  },
  {
   "cell_type": "code",
   "execution_count": 3,
   "id": "6120c442-4f92-4faa-b17e-34d775895e6f",
   "metadata": {},
   "outputs": [
    {
     "name": "stdout",
     "output_type": "stream",
     "text": [
      "6200\n"
     ]
    }
   ],
   "source": [
    "# Case-10:\n",
    "N1=200\n",
    "def add10():\n",
    "  add1=N1+N2\n",
    "  print(add1)\n",
    "N2=6000\n",
    "add10()\n",
    "# N1=200\n",
    "# define the function\n",
    "# N2=6000\n",
    "# calling the function\n",
    "# running the function"
   ]
  },
  {
   "cell_type": "code",
   "execution_count": null,
   "id": "988a9a94-1d64-4102-9690-54ee5a43c6c5",
   "metadata": {},
   "outputs": [],
   "source": []
  }
 ],
 "metadata": {
  "kernelspec": {
   "display_name": "Python 3 (ipykernel)",
   "language": "python",
   "name": "python3"
  },
  "language_info": {
   "codemirror_mode": {
    "name": "ipython",
    "version": 3
   },
   "file_extension": ".py",
   "mimetype": "text/x-python",
   "name": "python",
   "nbconvert_exporter": "python",
   "pygments_lexer": "ipython3",
   "version": "3.11.7"
  }
 },
 "nbformat": 4,
 "nbformat_minor": 5
}
