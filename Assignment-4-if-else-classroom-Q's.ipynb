{
 "cells": [
  {
   "cell_type": "code",
   "execution_count": 19,
   "id": "9a75210a-72dc-4e9d-bd62-b30cac0aeabb",
   "metadata": {},
   "outputs": [],
   "source": [
    "# wap ask the user enter a number\n",
    "# find it is a even number or odd number\n",
    "# idea: any number divide by 2 , the remiander=0\n",
    "#       it is called as even number\n",
    "# Implement the above problem by taking a random input  between  1, 100"
   ]
  },
  {
   "cell_type": "code",
   "execution_count": 17,
   "id": "10516eb5-d202-4d6d-92e9-19afeff4a6a3",
   "metadata": {},
   "outputs": [
    {
     "name": "stdout",
     "output_type": "stream",
     "text": [
      " num is:76\n",
      "even number\n"
     ]
    }
   ],
   "source": [
    "import random\n",
    "num = random.randint(1,100)\n",
    "print(f\" num is:{num}\")\n",
    "if num%2 == 0:\n",
    "    print(\"even number\")\n",
    "else:\n",
    "    print(\"odd number\")"
   ]
  },
  {
   "cell_type": "code",
   "execution_count": 21,
   "id": "96b48770-44d3-4fdb-9663-04e07e41a4e7",
   "metadata": {},
   "outputs": [],
   "source": [
    "# wap ask the user enter the distance\n",
    "# if distance greater than 25km\n",
    "#      then enter the charge\n",
    "#      print the total cost\n",
    "#otherwise\n",
    "#      print free ride"
   ]
  },
  {
   "cell_type": "code",
   "execution_count": 29,
   "id": "17d9c8ac-1468-4b12-9c9f-d58083dbda40",
   "metadata": {},
   "outputs": [
    {
     "name": "stdin",
     "output_type": "stream",
     "text": [
      "enter the kilometers: 45\n",
      "enter the charge in rupees for a kilometer: 4\n"
     ]
    },
    {
     "name": "stdout",
     "output_type": "stream",
     "text": [
      "total_charge is :180\n"
     ]
    }
   ],
   "source": [
    "distance = eval(input(\"enter the kilometers:\"))\n",
    "if distance > 25:\n",
    "    charge = eval(input(\"enter the charge in rupees for a kilometer:\"))\n",
    "    cost= (distance*charge)\n",
    "    print(f\"total_charge is :{cost}\")\n",
    "else:\n",
    "    print(\"free ride\")\n",
    "    "
   ]
  },
  {
   "cell_type": "code",
   "execution_count": 31,
   "id": "a79de9dd-4c13-4d29-968c-07c6f61ba058",
   "metadata": {},
   "outputs": [],
   "source": [
    "# wap ask the user enter the distance\n",
    "# cutoff distance enter 25\n",
    "# if distance greater than 25km\n",
    "#      print(\"good news your charge is aplicable for only remaining of 25\")\n",
    "#      chargeble distance= distance-cutoff\n",
    "#      then enter the charge\n",
    "#      print the total cost\n",
    "#otherwise\n",
    "#      print free ride\n"
   ]
  },
  {
   "cell_type": "code",
   "execution_count": 35,
   "id": "3f10a253-c9fb-45c7-8bd5-eab879314557",
   "metadata": {},
   "outputs": [
    {
     "name": "stdin",
     "output_type": "stream",
     "text": [
      "enter the distance in km: 66\n",
      "enter the cutoff distance in km: 25\n",
      "enter the charge in rupees 6\n"
     ]
    },
    {
     "name": "stdout",
     "output_type": "stream",
     "text": [
      "the total charge is:246\n",
      "good news your charge is aplicable for only remaining of 25\n"
     ]
    }
   ],
   "source": [
    "distance=eval(input(\"enter the distance in km:\"))\n",
    "cutoff_distance=eval(input(\"enter the cutoff distance in km:\"))\n",
    "chargeble_distance=distance-cutoff_distance\n",
    "charge=eval(input(\"enter the charge in rupees\"))\n",
    "cost=chargeble_distance*charge\n",
    "print(f\"the total charge is:{cost}\")\n",
    "if distance>cutoff_distance:\n",
    "    print(\"good news your charge is aplicable for only remaining of 25\")\n",
    "else:\n",
    "    print(\"free ride\")"
   ]
  },
  {
   "cell_type": "code",
   "execution_count": 37,
   "id": "272edfa2-43d9-4287-9671-b3e1687301b9",
   "metadata": {},
   "outputs": [],
   "source": [
    "# wap ask the user enter the course\n",
    "# ask the user enter the Institute\n",
    "# if the course equal to data science and institute equal to naresh it\n",
    "#     then you are good\n",
    "# otherwise\n",
    "#     you are bad"
   ]
  },
  {
   "cell_type": "code",
   "execution_count": 41,
   "id": "2f9e0aa5-0b51-49df-abda-dff86a1b3451",
   "metadata": {},
   "outputs": [
    {
     "name": "stdin",
     "output_type": "stream",
     "text": [
      "enter the course: data science\n",
      "enter the institute: naresh it\n"
     ]
    },
    {
     "name": "stdout",
     "output_type": "stream",
     "text": [
      "you are good\n"
     ]
    }
   ],
   "source": [
    "course=input(\"enter the course:\")\n",
    "institute=input(\"enter the institute:\")\n",
    "if course=='data science' and institute=='naresh it':\n",
    "    print(\"you are good\")\n",
    "else:\n",
    "    print(\"you are bad\")"
   ]
  },
  {
   "cell_type": "code",
   "execution_count": 43,
   "id": "1d64dafa-ab07-45e8-84a8-dd3e9784b0de",
   "metadata": {},
   "outputs": [],
   "source": [
    "# wap ask the user enter a random number between 1 to 10, treat this as number1\n",
    "# ask the user enter another number from keyboard, treat this as number2\n",
    "# if number1 equal to number2\n",
    "#     print you won\n",
    "# otherwise\n",
    "#     print you lost"
   ]
  },
  {
   "cell_type": "code",
   "execution_count": 45,
   "id": "473cce04-8863-4df1-a264-5fe96f6234b4",
   "metadata": {},
   "outputs": [
    {
     "name": "stdout",
     "output_type": "stream",
     "text": [
      "8\n"
     ]
    },
    {
     "name": "stdin",
     "output_type": "stream",
     "text": [
      "enter the number2: 8\n"
     ]
    },
    {
     "name": "stdout",
     "output_type": "stream",
     "text": [
      "you won\n"
     ]
    }
   ],
   "source": [
    "num1=random.randint(1,10)\n",
    "print(num1)\n",
    "num2=eval(input(\"enter the number2:\"))\n",
    "if num1==num2:\n",
    "    print(\"you won\")\n",
    "else:\n",
    "    print(\"you lost\")"
   ]
  },
  {
   "cell_type": "code",
   "execution_count": 47,
   "id": "71a0722f-fc49-4fc1-ab43-5e2395b7bcda",
   "metadata": {},
   "outputs": [],
   "source": [
    "# wap ask the user enter number\n",
    "# if number equal to 1 then print one\n",
    "# if number equal to 2 then print two\n",
    "# if number equal to 3 then print three\n",
    "# otherwise  print enter a valid number"
   ]
  },
  {
   "cell_type": "code",
   "execution_count": 49,
   "id": "5063816d-be58-4d2a-8e08-4f0d96b73f14",
   "metadata": {},
   "outputs": [
    {
     "name": "stdin",
     "output_type": "stream",
     "text": [
      "enter the number: 1\n"
     ]
    },
    {
     "name": "stdout",
     "output_type": "stream",
     "text": [
      "one\n"
     ]
    }
   ],
   "source": [
    "num=eval(input(\"enter the number:\"))\n",
    "if num==1:\n",
    "    print(\"one\")\n",
    "elif num==2:\n",
    "    print(\"two\")\n",
    "elif num==3:\n",
    "    print(\"three\")\n",
    "else:\n",
    "    print(\"enter a valid number\")"
   ]
  },
  {
   "cell_type": "code",
   "execution_count": 51,
   "id": "808c4099-7373-4e1b-92ac-454deaccc4df",
   "metadata": {},
   "outputs": [],
   "source": [
    "# wap ask the user enter a number\n",
    "# if that number greater than zero print postive\n",
    "# if that number less than zero print negative\n",
    "# otherwise print zero"
   ]
  },
  {
   "cell_type": "code",
   "execution_count": 53,
   "id": "b87a3e1c-c8ba-40ee-8c08-9aba32114047",
   "metadata": {},
   "outputs": [
    {
     "name": "stdin",
     "output_type": "stream",
     "text": [
      "enter num: 7\n"
     ]
    },
    {
     "name": "stdout",
     "output_type": "stream",
     "text": [
      "positive\n"
     ]
    }
   ],
   "source": [
    "num = eval(input(\"enter num:\"))\n",
    "if num>0:\n",
    "    print(\"positive\")\n",
    "elif num<0:\n",
    "    print(\"negative\")\n",
    "else:\n",
    "    print(\"zero\")"
   ]
  },
  {
   "cell_type": "code",
   "execution_count": 55,
   "id": "2c974681-35c8-4b6a-8782-c14d3a00f567",
   "metadata": {},
   "outputs": [],
   "source": [
    "# WAP ask the user enter the percentage of marks 0 to 100\n",
    "# if percentagw gretaer than 90  print A garde\n",
    "# if percentage between 75 to 90 print B garde\n",
    "# if percentage between 50 to 75 print C grade\n",
    "# if percentage between 35 to 50 print D grade\n",
    "# if percentage less than 35 print Fail"
   ]
  },
  {
   "cell_type": "code",
   "execution_count": 63,
   "id": "ccf1933f-c22f-4427-aa87-261b1626a9a9",
   "metadata": {},
   "outputs": [
    {
     "name": "stdin",
     "output_type": "stream",
     "text": [
      "enter the percentage 95\n"
     ]
    },
    {
     "name": "stdout",
     "output_type": "stream",
     "text": [
      "A grade\n"
     ]
    }
   ],
   "source": [
    "percentage = eval(input(\"enter the percentage\"))\n",
    "if percentage >= 90:\n",
    "    print(\"A grade\")\n",
    "elif percentage >= 75:\n",
    "    print(\"B grade\")\n",
    "elif percentage >=50:\n",
    "    print(\"C grade\")\n",
    "elif percentage >=35:\n",
    "    print(\"D grade\")\n",
    "else:\n",
    "    print(\"fail\")\n"
   ]
  },
  {
   "cell_type": "code",
   "execution_count": 59,
   "id": "a373652d-7039-4514-8c24-7538e7358dc7",
   "metadata": {},
   "outputs": [],
   "source": [
    "# WAP ask the user enter the age\n",
    "# if the age greater tahn 100 print you are lucky\n",
    "# if the age gretaer than 75 print old age\n",
    "# if the age  between 50 to 75 print ss\n",
    "# if the age between  30 tp 50 print MA\n",
    "# if the age between  15 to 30 print young age\n",
    "# if the afe between less than 15 print kid"
   ]
  },
  {
   "cell_type": "code",
   "execution_count": 65,
   "id": "9c5a5000-1fe9-4371-9bf7-6b0f74e6948d",
   "metadata": {},
   "outputs": [
    {
     "name": "stdin",
     "output_type": "stream",
     "text": [
      "enter the age: 100\n"
     ]
    },
    {
     "name": "stdout",
     "output_type": "stream",
     "text": [
      "you are lucky\n"
     ]
    }
   ],
   "source": [
    "age = eval(input(\"enter the age:\"))\n",
    "if age >= 100:\n",
    "    print(\"you are lucky\")\n",
    "elif age>= 75:\n",
    "    print(\"old age\")\n",
    "elif age>=50:\n",
    "    print(\"ss\")\n",
    "elif age>=30:\n",
    "    print(\"MA\")\n",
    "elif age>=15:\n",
    "    print(\"young age\")   \n",
    "else:\n",
    "    print(\"kid\")"
   ]
  },
  {
   "cell_type": "code",
   "execution_count": null,
   "id": "a3884d67-5a51-4f46-9b27-e7937fcd03cb",
   "metadata": {},
   "outputs": [],
   "source": []
  }
 ],
 "metadata": {
  "kernelspec": {
   "display_name": "Python 3 (ipykernel)",
   "language": "python",
   "name": "python3"
  },
  "language_info": {
   "codemirror_mode": {
    "name": "ipython",
    "version": 3
   },
   "file_extension": ".py",
   "mimetype": "text/x-python",
   "name": "python",
   "nbconvert_exporter": "python",
   "pygments_lexer": "ipython3",
   "version": "3.11.7"
  }
 },
 "nbformat": 4,
 "nbformat_minor": 5
}
