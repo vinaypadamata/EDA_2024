{
 "cells": [
  {
   "cell_type": "code",
   "execution_count": null,
   "id": "0d7efd9e-cbd3-4daf-a2e4-6986cb3b468b",
   "metadata": {},
   "outputs": [],
   "source": [
    "Class room questions-1:\n",
    "\n",
    "1. Ask the user to enter a number. Print out the square of the number,\n",
    "\n",
    "Sample output is shown below.zzzzz\n",
    "Enter a number: 5\n",
    "The square of 5 is 25.\n",
    "\n",
    "2. Ask the user to enter a number x. print out x, 2x, 3x, 4x, and 5x,\n",
    "each separated by three dashes, like below.\n",
    "Enter a number: 7\n",
    "7---14---21---28---35\n",
    "3. Write a program that asks the user for a weight in kilograms and\n",
    "converts it to pounds. There are 2.2 pounds in a kilogram.\n",
    "\n",
    "4. Write a program that asks the user to enter three numbers (use three\n",
    "separate input statements).Create variables called total and average\n",
    "that hold the sum and average of the three numbers and print out the\n",
    "values of total and average.\n",
    "5. A lot of cell phones have tip calculators. Write one. Ask the user for\n",
    "the price of the meal and the percent tip they want to leave. Then\n",
    "print both the tip amount and the total bill with the tip included.\n",
    "6. wap ask the user enter the 2 numbers find the subtraction,addition,\n",
    "multiplication and division\n",
    "7. wap ask the user enter radius values and pi value find the area\n",
    "of the circle\n",
    "8. wap ask the user bill amount in dollars, ask the user enter how\n",
    "much indian rupees for one dollar print the bill amount in rupees\n",
    "9. wap ask the user enter base height calculate area of the triangle\n",
    "10. wap ask the user enter length and breadth calculate area of the\n",
    "rectangle\n",
    "\n",
    "11. Let’s create a story between Father and daughter , You need\n",
    "to create a story by using print and input keywords\n",
    "You need to develop a python code same like below steps\n",
    "The goal of this code is to understand python is step by step\n",
    "process\n",
    "Step-1: input(“ Father: Hey Baby!”)\n",
    "Step-2: input(“Daughter: Hello Dady”)\n",
    "Step-3: input(“Father: I heard your exams are over, what about result”)\n",
    "Step-4: input(“Daughter: Yes dad! Results are out.”)\n",
    "Step-5: input(“Father: what is the percentage?”)\n",
    "Step-6: input(“Daughter: I will give my subject wise marks , you tell me the\n",
    "percentage”)\n",
    "Step-7: input(“Father : Okay!)\n",
    "Step-8: sub1=eval(input(“First Language:”))\n",
    "Step-9: sub2=eval(input(“Second language:”))\n",
    "Step-10: sub3=eval(input(“Third language:”))\n",
    "Step-11: sub4=eval(input(“Science:”))\n",
    "Step-12: sub5=eval(input(“Maths:”))\n",
    "Step-13: Daughter: Dad Now tell me how much percentage I got\n",
    "Step-14: Father: Tell me the max marks of each subject\n",
    "Step-15: max_marks=eval(input(“Daughter:”)) give=100\n",
    "Step-16: calculate the percentage of marks and print it"
   ]
  },
  {
   "cell_type": "code",
   "execution_count": 1,
   "id": "251a4b25-77a7-4104-a975-03899627a045",
   "metadata": {},
   "outputs": [
    {
     "name": "stdin",
     "output_type": "stream",
     "text": [
      "number: 5\n"
     ]
    },
    {
     "name": "stdout",
     "output_type": "stream",
     "text": [
      "the square_of_num is:25\n"
     ]
    }
   ],
   "source": [
    "num = eval(input(\"number:\"))\n",
    "square_of_num = (num*num)\n",
    "print(f\"the square_of_num is:{square_of_num}\")"
   ]
  },
  {
   "cell_type": "code",
   "execution_count": 3,
   "id": "f13f8685-9f9c-4ef3-a6d7-d61841816a60",
   "metadata": {},
   "outputs": [
    {
     "name": "stdin",
     "output_type": "stream",
     "text": [
      "enter the value:  7\n"
     ]
    },
    {
     "name": "stdout",
     "output_type": "stream",
     "text": [
      "7----14----21----28----35\n"
     ]
    }
   ],
   "source": [
    "x = eval(input(\"enter the value: \"))\n",
    "print(x,2*x,3*x,4*x,5*x,sep = '----')"
   ]
  },
  {
   "cell_type": "code",
   "execution_count": 7,
   "id": "c9052950-a04a-491a-bd8f-f39a50e5f3bc",
   "metadata": {},
   "outputs": [
    {
     "name": "stdin",
     "output_type": "stream",
     "text": [
      "Enter weight: 5\n"
     ]
    },
    {
     "name": "stdout",
     "output_type": "stream",
     "text": [
      "the total_weight is:11.0\n"
     ]
    }
   ],
   "source": [
    "weight = eval(input(\"Enter weight:\"))\n",
    "total_weight = 2.2*weight\n",
    "print(f\"the total_weight is:{total_weight}\") "
   ]
  },
  {
   "cell_type": "code",
   "execution_count": 16,
   "id": "38ad9a81-ddec-4c27-b1bb-7a12df1e53e4",
   "metadata": {},
   "outputs": [
    {
     "name": "stdin",
     "output_type": "stream",
     "text": [
      "num1: 1\n",
      "num2: 2\n",
      "num3: 3\n"
     ]
    },
    {
     "name": "stdout",
     "output_type": "stream",
     "text": [
      "the avg of 1 , 2 and3 is: 2.0\n",
      "the total of 1 , 2 and3 is: 6\n"
     ]
    }
   ],
   "source": [
    "num1=eval(input(\"num1:\"))\n",
    "num2=eval(input(\"num2:\"))\n",
    "num3=eval(input(\"num3:\"))\n",
    "avg=(num1+num2+num3)/3\n",
    "total=(num1+num2+num3)\n",
    "print(f\"the avg of {num1} , {num2} and{num3} is: {avg}\")\n",
    "print(f\"the total of {num1} , {num2} and{num3} is: {total}\")"
   ]
  },
  {
   "cell_type": "code",
   "execution_count": 18,
   "id": "6ef78486-a1eb-4b59-863e-10339e8d2e79",
   "metadata": {},
   "outputs": [
    {
     "name": "stdin",
     "output_type": "stream",
     "text": [
      "price: 1000\n",
      "tip_percentage 10\n"
     ]
    },
    {
     "name": "stdout",
     "output_type": "stream",
     "text": [
      "the tip_amount is: 100.0\n",
      "the total_bill is: 1100.0\n"
     ]
    }
   ],
   "source": [
    "price_of_the_meal =eval(input(\"price:\"))\n",
    "tip_percentage =eval(input(\"tip_percentage\"))\n",
    "tip_amount = price_of_the_meal*tip_percentage/100\n",
    "total_bill = price_of_the_meal+tip_amount\n",
    "print(f\"the tip_amount is: {tip_amount}\")\n",
    "print(f\"the total_bill is: {total_bill}\") "
   ]
  },
  {
   "cell_type": "code",
   "execution_count": 24,
   "id": "37f37efe-3a67-41a0-b801-7e19bfb3f3a5",
   "metadata": {},
   "outputs": [
    {
     "name": "stdin",
     "output_type": "stream",
     "text": [
      "num1: 4\n",
      "num2: 2\n"
     ]
    },
    {
     "name": "stdout",
     "output_type": "stream",
     "text": [
      "Addition of 4,2 is 6\n",
      "Subtraction of 4,2 is 2\n",
      "Multiplication of 4,2 is 8\n",
      "Division of 4,2 is 2.0\n"
     ]
    }
   ],
   "source": [
    "num1=eval(input(\"num1:\")) \n",
    "num2=eval(input(\"num2:\"))\n",
    "a = (num1+num2)\n",
    "b = (num1-num2)\n",
    "c = (num1*num2)\n",
    "d = (num1/num2)\n",
    "print(f\"Addition of {num1},{num2} is {a}\")\n",
    "print(f\"Subtraction of {num1},{num2} is {b}\")\n",
    "print(f\"Multiplication of {num1},{num2} is {c}\")\n",
    "print(f\"Division of {num1},{num2} is {d}\")\n"
   ]
  },
  {
   "cell_type": "code",
   "execution_count": 26,
   "id": "e94aa522-4550-4ba6-a452-3eb74ce62e68",
   "metadata": {},
   "outputs": [
    {
     "name": "stdin",
     "output_type": "stream",
     "text": [
      "radius: 5\n"
     ]
    },
    {
     "name": "stdout",
     "output_type": "stream",
     "text": [
      "The area_of_the_circle is: 78.5\n"
     ]
    }
   ],
   "source": [
    "radius = eval(input(\"radius:\"))\n",
    "pi_value=3.14\n",
    "area_of_the_circle = pi_value*radius*radius\n",
    "print(f\"The area_of_the_circle is: {area_of_the_circle}\")"
   ]
  },
  {
   "cell_type": "code",
   "execution_count": 28,
   "id": "d7357cd1-de31-4fa4-95b8-66d007f2d985",
   "metadata": {},
   "outputs": [
    {
     "name": "stdin",
     "output_type": "stream",
     "text": [
      "bill: 60\n",
      "one_dollar_in_rupees: 80\n"
     ]
    },
    {
     "name": "stdout",
     "output_type": "stream",
     "text": [
      "the total_bill is: 4800\n"
     ]
    }
   ],
   "source": [
    "bill_amount_in_dollars = eval(input(\"bill:\"))\n",
    "one_dollar_in_rupees = eval(input(\"one_dollar_in_rupees:\"))\n",
    "total_bill = (bill_amount_in_dollars*one_dollar_in_rupees)\n",
    "print(f\"the total_bill is: {total_bill}\") "
   ]
  },
  {
   "cell_type": "code",
   "execution_count": 30,
   "id": "c81ba3b7-d084-4d25-8943-0fd543292145",
   "metadata": {},
   "outputs": [
    {
     "name": "stdin",
     "output_type": "stream",
     "text": [
      "base: 1\n",
      "height: 2\n"
     ]
    },
    {
     "name": "stdout",
     "output_type": "stream",
     "text": [
      "the area of triangle is : 1.0\n"
     ]
    }
   ],
   "source": [
    "base = eval(input(\"base:\")) \n",
    "height= eval(input(\"height:\"))\n",
    "area = 0.5*base*height\n",
    "print(f\"the area of triangle is : {area}\")"
   ]
  },
  {
   "cell_type": "code",
   "execution_count": 32,
   "id": "f6bfa7b6-712d-40f3-a970-182680862329",
   "metadata": {},
   "outputs": [
    {
     "name": "stdin",
     "output_type": "stream",
     "text": [
      "length: 1\n",
      "breadth: 2\n"
     ]
    },
    {
     "name": "stdout",
     "output_type": "stream",
     "text": [
      "the area of rectangle is : 2\n"
     ]
    }
   ],
   "source": [
    "length = eval(input(\"length:\")) \n",
    "breadth= eval(input(\"breadth:\"))\n",
    "area = length*breadth\n",
    "print(f\"the area of rectangle is : {area}\")"
   ]
  },
  {
   "cell_type": "code",
   "execution_count": 38,
   "id": "980f394d-487d-46cb-9312-58140c2f1b30",
   "metadata": {},
   "outputs": [
    {
     "name": "stdin",
     "output_type": "stream",
     "text": [
      "Father:  Hi Baby!\n"
     ]
    },
    {
     "name": "stdout",
     "output_type": "stream",
     "text": [
      "Father:Hi Baby!\n"
     ]
    },
    {
     "name": "stdin",
     "output_type": "stream",
     "text": [
      "Daughter:  Hello Dad\n"
     ]
    },
    {
     "name": "stdout",
     "output_type": "stream",
     "text": [
      "Daughter:Hello Dad \n"
     ]
    },
    {
     "name": "stdin",
     "output_type": "stream",
     "text": [
      "Father:  I heard your exams are over.what about results? \n"
     ]
    },
    {
     "name": "stdout",
     "output_type": "stream",
     "text": [
      "Father:I heard your exams are over.what about results? \n"
     ]
    },
    {
     "name": "stdin",
     "output_type": "stream",
     "text": [
      "Daughter:  Yes dad! Results are out\n"
     ]
    },
    {
     "name": "stdout",
     "output_type": "stream",
     "text": [
      "Daughter:Yes dad! Results are out \n"
     ]
    },
    {
     "name": "stdin",
     "output_type": "stream",
     "text": [
      "Father:  What is the percentage?\n"
     ]
    },
    {
     "name": "stdout",
     "output_type": "stream",
     "text": [
      "Father:What is the percentage?\n"
     ]
    },
    {
     "name": "stdin",
     "output_type": "stream",
     "text": [
      "Daughter:  I will give my subject wise marks, you tell me the percentage\n"
     ]
    },
    {
     "name": "stdout",
     "output_type": "stream",
     "text": [
      "Daughter:I will give my subject wise marks, you tell me the percentage\n"
     ]
    },
    {
     "name": "stdin",
     "output_type": "stream",
     "text": [
      "Father:  Okay!\n"
     ]
    },
    {
     "name": "stdout",
     "output_type": "stream",
     "text": [
      "Father:Okay!\n"
     ]
    },
    {
     "name": "stdin",
     "output_type": "stream",
     "text": [
      "First Language:  88\n",
      "Second language:  86\n",
      "Third language:  98\n",
      "Science:  92\n",
      "Maths:  84\n"
     ]
    },
    {
     "name": "stdout",
     "output_type": "stream",
     "text": [
      "Marks in first language:88\n",
      "Marks in second language:86\n",
      "Marks in Third language:98\n",
      "Marks in Science:92\n",
      "Marks in Maths:84\n"
     ]
    },
    {
     "name": "stdin",
     "output_type": "stream",
     "text": [
      "Father:  Tell me max marks of each subject\n"
     ]
    },
    {
     "name": "stdout",
     "output_type": "stream",
     "text": [
      "Father:Tell me max marks of each subject\n"
     ]
    },
    {
     "name": "stdin",
     "output_type": "stream",
     "text": [
      "Daughter: 100\n"
     ]
    },
    {
     "name": "stdout",
     "output_type": "stream",
     "text": [
      "Daughter:100 \n"
     ]
    },
    {
     "name": "stdin",
     "output_type": "stream",
     "text": [
      "Daughter:  100\n"
     ]
    },
    {
     "name": "stdout",
     "output_type": "stream",
     "text": [
      " max_marks are: 100\n",
      " Your total percentage is :89.60000000000001\n"
     ]
    }
   ],
   "source": [
    "a=input(\"Father: \")\n",
    "print(f\"Father:{a}\")\n",
    "b = input(\"Daughter: \")\n",
    "print(f\"Daughter:{b} \")\n",
    "c = input(\"Father: \")\n",
    "print(f\"Father:{c}\")\n",
    "d = input(\"Daughter: \")\n",
    "print(f\"Daughter:{d} \")\n",
    "e = input(\"Father: \")\n",
    "print(f\"Father:{e}\")\n",
    "f = input(\"Daughter: \")\n",
    "print(f\"Daughter:{f}\")\n",
    "g =  input(\"Father: \")\n",
    "print(f\"Father:{g}\")\n",
    "sub1=eval(input(\"First Language: \" ))\n",
    "sub2=eval(input(\"Second language: \"))\n",
    "sub3=eval(input(\"Third language: \"))\n",
    "sub4=eval(input(\"Science: \"))\n",
    "sub5=eval(input(\"Maths: \"))\n",
    "print(f\"Marks in first language:{sub1}\")\n",
    "print(f\"Marks in second language:{sub2}\")\n",
    "print(f\"Marks in Third language:{sub3}\")\n",
    "print(f\"Marks in Science:{sub4}\")\n",
    "print(f\"Marks in Maths:{sub5}\")\n",
    "i = input(\"Daughter:\") \n",
    "print(f\"Daughter:{i} \")\n",
    "h = input(\"Father: \")\n",
    "print(f\"Father:{h}\")\n",
    "max_marks = eval(input(\"Daughter: \"))\n",
    "print(f\" max_marks are: {max_marks}\")\n",
    "percentage = (sub1+sub2+sub3+sub4+sub5)/500*100\n",
    "print(f\" Your total percentage is :{percentage}\")"
   ]
  }
 ],
 "metadata": {
  "kernelspec": {
   "display_name": "Python 3 (ipykernel)",
   "language": "python",
   "name": "python3"
  },
  "language_info": {
   "codemirror_mode": {
    "name": "ipython",
    "version": 3
   },
   "file_extension": ".py",
   "mimetype": "text/x-python",
   "name": "python",
   "nbconvert_exporter": "python",
   "pygments_lexer": "ipython3",
   "version": "3.11.7"
  }
 },
 "nbformat": 4,
 "nbformat_minor": 5
}
