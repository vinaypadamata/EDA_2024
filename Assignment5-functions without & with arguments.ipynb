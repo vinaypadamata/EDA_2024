{
 "cells": [
  {
   "cell_type": "code",
   "execution_count": 3,
   "id": "95226611-e873-4789-b19a-1dda6f7504c0",
   "metadata": {},
   "outputs": [],
   "source": [
    "# wap ask the user enter 3 numbers calculate average"
   ]
  },
  {
   "cell_type": "code",
   "execution_count": 7,
   "id": "04764b69-310e-40fa-9efb-2c5e374adf25",
   "metadata": {},
   "outputs": [
    {
     "name": "stdin",
     "output_type": "stream",
     "text": [
      "num1: 50\n",
      "num2: 60\n",
      "num3: 70\n"
     ]
    },
    {
     "name": "stdout",
     "output_type": "stream",
     "text": [
      "the avg of 50 , 60 and70 is: 60.0\n",
      "the total of 50 , 60 and70 is: 180\n"
     ]
    }
   ],
   "source": [
    "def average():\n",
    "            num1=eval(input(\"num1:\"))\n",
    "            num2=eval(input(\"num2:\"))\n",
    "            num3=eval(input(\"num3:\"))\n",
    "            avg=(num1+num2+num3)/3\n",
    "            total=(num1+num2+num3)\n",
    "            print(f\"the avg of {num1} , {num2} and{num3} is: {avg}\")\n",
    "            print(f\"the total of {num1} , {num2} and{num3} is: {total}\")\n",
    "average()"
   ]
  },
  {
   "cell_type": "code",
   "execution_count": 12,
   "id": "8504dfab-bebf-4fd6-a91a-afb50c9a0958",
   "metadata": {},
   "outputs": [
    {
     "name": "stdout",
     "output_type": "stream",
     "text": [
      "the avg of 10 , 20 and30 is: 20.0\n",
      "the total of 10 , 20 and30 is: 60\n"
     ]
    }
   ],
   "source": [
    "def average1(num1,num2,num3):\n",
    "                    avg=(num1+num2+num3)/3\n",
    "                    total=(num1+num2+num3)\n",
    "                    print(f\"the avg of {num1} , {num2} and{num3} is: {avg}\")\n",
    "                    print(f\"the total of {num1} ,{num2} and {num3} is: {total}\")\n",
    "average1(10,20,30)"
   ]
  },
  {
   "cell_type": "code",
   "execution_count": 14,
   "id": "7f13bc48-052c-4be2-a5af-8e2b7a2a1124",
   "metadata": {},
   "outputs": [],
   "source": [
    "# wap ask the uer enter radius values find the area of the circle"
   ]
  },
  {
   "cell_type": "code",
   "execution_count": 17,
   "id": "8818163e-f5f9-452d-9fa9-77ae54575842",
   "metadata": {},
   "outputs": [
    {
     "name": "stdin",
     "output_type": "stream",
     "text": [
      "radius: 6\n"
     ]
    },
    {
     "name": "stdout",
     "output_type": "stream",
     "text": [
      "The area_of_the_circle is: 113.03999999999999\n"
     ]
    }
   ],
   "source": [
    "def area():\n",
    "        radius = eval(input(\"radius:\"))\n",
    "        pi_value=3.14\n",
    "        area_of_the_circle = pi_value*radius*radius\n",
    "        print(f\"The area_of_the_circle is: {area_of_the_circle}\")\n",
    "area()"
   ]
  },
  {
   "cell_type": "code",
   "execution_count": 23,
   "id": "eac9e8c7-9644-48ff-bd87-af0c7bb66753",
   "metadata": {},
   "outputs": [
    {
     "name": "stdout",
     "output_type": "stream",
     "text": [
      "The area_of_the_circle is: 113.03999999999999\n"
     ]
    }
   ],
   "source": [
    "def area1(radius,pi):\n",
    "            area_of_the_circle = pi*radius*radius\n",
    "            print(f\"The area_of_the_circle is: {area_of_the_circle}\")\n",
    "area1(6,3.14)"
   ]
  },
  {
   "cell_type": "code",
   "execution_count": 25,
   "id": "51e9bb46-ff8f-41da-8a20-808ab9db8c1a",
   "metadata": {},
   "outputs": [],
   "source": [
    "# wap ask the user bill amount,\n",
    "#     ask the user how much tip you want pay in percentage\n",
    "#     calculate totalbill"
   ]
  },
  {
   "cell_type": "code",
   "execution_count": 27,
   "id": "5552fba4-c2df-4165-93f3-f9642d82d89c",
   "metadata": {},
   "outputs": [
    {
     "name": "stdin",
     "output_type": "stream",
     "text": [
      "bill_amount: 567\n",
      "tip: 3\n"
     ]
    },
    {
     "name": "stdout",
     "output_type": "stream",
     "text": [
      "total_bill is:17.01\n"
     ]
    }
   ],
   "source": [
    "def per():\n",
    "        bill_amount = eval(input(\"bill_amount:\"))\n",
    "        tip_percentage = eval(input(\"tip:\"))\n",
    "        total_bill = bill_amount*tip_percentage/100\n",
    "        print(f\"total_bill is:{total_bill}\")\n",
    "per()"
   ]
  },
  {
   "cell_type": "code",
   "execution_count": 39,
   "id": "f7e1643c-e7ef-43e3-a7e4-b9f41e54f34e",
   "metadata": {},
   "outputs": [
    {
     "name": "stdout",
     "output_type": "stream",
     "text": [
      "total_bill is:400.0\n"
     ]
    }
   ],
   "source": [
    "def percentage1(bill_amount,tip):\n",
    "                    total_bill = bill_amount*tip/100\n",
    "                    print(f\"total_bill is:{total_bill}\")\n",
    "percentage1(4000,10)"
   ]
  },
  {
   "cell_type": "code",
   "execution_count": 41,
   "id": "919d70be-3476-47af-94d7-4005d68f659d",
   "metadata": {},
   "outputs": [],
   "source": [
    "#wap ask the user enter base height calculate area of the traingle"
   ]
  },
  {
   "cell_type": "code",
   "execution_count": 43,
   "id": "a3407c10-2ac6-4d5d-b972-0eabb4eec97a",
   "metadata": {},
   "outputs": [
    {
     "name": "stdin",
     "output_type": "stream",
     "text": [
      "base: 12\n",
      "height: 15\n"
     ]
    },
    {
     "name": "stdout",
     "output_type": "stream",
     "text": [
      "the area of triangle is : 90.0\n"
     ]
    }
   ],
   "source": [
    "def area():\n",
    "        base = eval(input(\"base:\")) \n",
    "        height= eval(input(\"height:\"))\n",
    "        area = 0.5*base*height\n",
    "        print(f\"the area of triangle is : {area}\")\n",
    "area()"
   ]
  },
  {
   "cell_type": "code",
   "execution_count": 45,
   "id": "b58b07b7-73b4-413d-a1a9-0ab6f8f8ddd2",
   "metadata": {},
   "outputs": [
    {
     "name": "stdout",
     "output_type": "stream",
     "text": [
      "the area of triangle is : 125.0\n"
     ]
    }
   ],
   "source": [
    "def area1(base,height):       \n",
    "        area = 0.5*base*height\n",
    "        print(f\"the area of triangle is : {area}\")\n",
    "area1(10,25)\n",
    "            "
   ]
  },
  {
   "cell_type": "code",
   "execution_count": 47,
   "id": "335a6ca1-81d6-42f2-b811-055d13010ab9",
   "metadata": {},
   "outputs": [],
   "source": [
    "#wap ask the user enter length and breadth calculate area of the rectangle"
   ]
  },
  {
   "cell_type": "code",
   "execution_count": 49,
   "id": "9b8915b2-d916-48e5-ace2-c50d9f2ef922",
   "metadata": {},
   "outputs": [
    {
     "name": "stdin",
     "output_type": "stream",
     "text": [
      "length: 14\n",
      "breadth: 15\n"
     ]
    },
    {
     "name": "stdout",
     "output_type": "stream",
     "text": [
      "the area of rectangle is : 210\n"
     ]
    }
   ],
   "source": [
    "def area():\n",
    "        length = eval(input(\"length:\")) \n",
    "        breadth= eval(input(\"breadth:\"))\n",
    "        area = length*breadth\n",
    "        print(f\"the area of rectangle is : {area}\")\n",
    "area()"
   ]
  },
  {
   "cell_type": "code",
   "execution_count": 55,
   "id": "9d572d35-b147-4e88-b7de-889ffdc9d309",
   "metadata": {},
   "outputs": [
    {
     "name": "stdout",
     "output_type": "stream",
     "text": [
      "the area of rectangle is : 210\n"
     ]
    }
   ],
   "source": [
    "def area2(length,breadth):\n",
    "        area = length*breadth\n",
    "        print(f\"the area of rectangle is : {area}\")\n",
    "area2(14,15)"
   ]
  },
  {
   "cell_type": "code",
   "execution_count": 57,
   "id": "73e3960c-1063-4c00-8500-ccbc843453b5",
   "metadata": {},
   "outputs": [],
   "source": [
    "# wap ask the user enter a number\n",
    "# find it is a even number or odd number"
   ]
  },
  {
   "cell_type": "code",
   "execution_count": 3,
   "id": "4dace28a-3687-472d-b27f-95defc13a645",
   "metadata": {},
   "outputs": [
    {
     "name": "stdin",
     "output_type": "stream",
     "text": [
      "number: 44\n"
     ]
    },
    {
     "name": "stdout",
     "output_type": "stream",
     "text": [
      "num is :44\n",
      "even number\n"
     ]
    }
   ],
   "source": [
    "def findout():\n",
    "            num = eval(input(\"number:\"))\n",
    "            print(f\"num is :{num}\")\n",
    "            if num%2==0:\n",
    "                print(\"even number\")\n",
    "            else:\n",
    "                print(\"odd number\")\n",
    "findout()  "
   ]
  },
  {
   "cell_type": "code",
   "execution_count": 100,
   "id": "ace013b2-d32f-4005-b5e7-70e54559dc0e",
   "metadata": {},
   "outputs": [
    {
     "name": "stdout",
     "output_type": "stream",
     "text": [
      "30\n",
      "even number\n"
     ]
    }
   ],
   "source": [
    "def findout1(num):\n",
    "    print(num)\n",
    "    if (num%2==0):\n",
    "        print(\"even number\")\n",
    "    else:\n",
    "        print(\"odd number\")\n",
    "findout1(30)                "
   ]
  },
  {
   "cell_type": "code",
   "execution_count": null,
   "id": "b7647a60-0b27-4ca7-ad2e-d46feaac1c9f",
   "metadata": {},
   "outputs": [],
   "source": [
    "# wap ask the user enter the distance\n",
    "# if distance greater than 25km\n",
    "#      then enter the charge\n",
    "#      print the total cost\n",
    "#otherwise\n",
    "#      print free ride\n",
    "# Implement the above problem by taking a random input  between  1, 100"
   ]
  },
  {
   "cell_type": "code",
   "execution_count": 135,
   "id": "5404b769-c98f-4aa7-839a-c916cc93a5f9",
   "metadata": {},
   "outputs": [
    {
     "name": "stdin",
     "output_type": "stream",
     "text": [
      "enter the charge in rupees: 7\n"
     ]
    },
    {
     "name": "stdout",
     "output_type": "stream",
     "text": [
      "total_charge is : 448\n"
     ]
    }
   ],
   "source": [
    "import random\n",
    "def function():\n",
    "            distance = random.randint(1,100)\n",
    "            if distance > 25:\n",
    "                charge = eval(input(\"enter the charge in rupees:\"))\n",
    "                cost= (distance*charge)\n",
    "                print(\"total_charge is :\",cost)\n",
    "            else:\n",
    "                print(\"free ride\")\n",
    "function()"
   ]
  },
  {
   "cell_type": "code",
   "execution_count": 150,
   "id": "4df026cc-7177-4c78-aa60-ec51d5b27826",
   "metadata": {},
   "outputs": [
    {
     "name": "stdout",
     "output_type": "stream",
     "text": [
      "total_charge is : 203\n"
     ]
    }
   ],
   "source": [
    "def function1(distance,charge):\n",
    "            if distance > 25:\n",
    "                cost= (distance*charge)\n",
    "                print(\"total_charge is :\",cost)\n",
    "            else:\n",
    "                print(\"free ride\")\n",
    "function1(random.randint (1,100),7)\n",
    "    "
   ]
  },
  {
   "cell_type": "code",
   "execution_count": null,
   "id": "7244eb73-757f-4bf3-afc5-185a2a134c02",
   "metadata": {},
   "outputs": [],
   "source": [
    "# wap ask the user enter the distance\n",
    "# if distance greater than 25km\n",
    "#      then enter the charge\n",
    "#      print the total cost\n",
    "#otherwise\n",
    "#      print free ride"
   ]
  },
  {
   "cell_type": "code",
   "execution_count": 104,
   "id": "4e24e9cb-d291-472a-8a5a-1d6378eac5ae",
   "metadata": {},
   "outputs": [
    {
     "name": "stdin",
     "output_type": "stream",
     "text": [
      "enter the kilometers: 5\n"
     ]
    },
    {
     "name": "stdout",
     "output_type": "stream",
     "text": [
      "free ride\n"
     ]
    }
   ],
   "source": [
    "def travel():\n",
    "            distance = eval(input(\"enter the kilometers:\"))\n",
    "            if distance > 25:\n",
    "                charge = eval(input(\"enter the charge in rupees:\"))\n",
    "                cost= (distance*charge)\n",
    "                print(\"total_charge is :\",cost)\n",
    "            else:\n",
    "                print(\"free ride\")\n",
    "travel()               "
   ]
  },
  {
   "cell_type": "code",
   "execution_count": 109,
   "id": "9ad55a10-bbf9-4a27-a94f-799c088d2bfa",
   "metadata": {},
   "outputs": [
    {
     "name": "stdout",
     "output_type": "stream",
     "text": [
      "free ride\n"
     ]
    }
   ],
   "source": [
    "def travelsafe(distance,charge):\n",
    "               if distance > 25:\n",
    "                cost= (distance*charge)\n",
    "                print(\"total_charge is :\",cost)\n",
    "               else:\n",
    "                print(\"free ride\") \n",
    "travelsafe(4,6)"
   ]
  },
  {
   "cell_type": "code",
   "execution_count": 111,
   "id": "d4af620c-9573-4a02-974d-8620a6d06f5a",
   "metadata": {},
   "outputs": [],
   "source": [
    "# wap ask the user enter the distance\n",
    "# cutoff distance enter 25\n",
    "# if distance greater than 25km\n",
    "#      print(\"good news your charge is aplicable for only remaining of 25\")\n",
    "#      chargeble distance= distance-cutoff\n",
    "#      then enter the charge\n",
    "#      print the total cost\n",
    "#otherwise\n",
    "#      print free ride"
   ]
  },
  {
   "cell_type": "code",
   "execution_count": 154,
   "id": "453c7eb3-f54e-46bb-babd-ac606f152350",
   "metadata": {},
   "outputs": [
    {
     "name": "stdin",
     "output_type": "stream",
     "text": [
      "enter the distance in km: 45\n",
      "enter the cutoff distance in km: 25\n",
      "enter the charge in rupees 4\n"
     ]
    },
    {
     "name": "stdout",
     "output_type": "stream",
     "text": [
      "the total charge is:80\n",
      "good news your charge is aplicable for only remaining of 25\n"
     ]
    }
   ],
   "source": [
    "def ride():\n",
    "        distance=eval(input(\"enter the distance in km:\"))\n",
    "        cutoff_distance=eval(input(\"enter the cutoff distance in km:\"))\n",
    "        chargeble_distance=distance-cutoff_distance\n",
    "        charge=eval(input(\"enter the charge in rupees\"))\n",
    "        cost=chargeble_distance*charge\n",
    "        print(f\"the total charge is:{cost}\")\n",
    "        if distance>cutoff_distance:\n",
    "            print(\"good news your charge is aplicable for only remaining of 25\")\n",
    "        else:\n",
    "            print(\"free ride\")\n",
    "ride()   "
   ]
  },
  {
   "cell_type": "code",
   "execution_count": 159,
   "id": "01ac0bbe-3798-4796-aae4-294e4a6992c0",
   "metadata": {},
   "outputs": [
    {
     "name": "stdout",
     "output_type": "stream",
     "text": [
      "free ride\n"
     ]
    }
   ],
   "source": [
    "def ride1(distance,cutoff_distance,charge):\n",
    "          if distance>cutoff_distance:\n",
    "            print(\"good news your charge is aplicable for only remaining of 25\")\n",
    "          else:\n",
    "            print(\"free ride\")\n",
    "ride1(24,25,5)"
   ]
  },
  {
   "cell_type": "code",
   "execution_count": 161,
   "id": "089f74ed-07c2-41f8-844f-d932c70aeca8",
   "metadata": {},
   "outputs": [],
   "source": [
    "# wap ask the user enter the course\n",
    "# ask the user enter the Institute\n",
    "# if the course equal to data science and institute equal to naresh it\n",
    "#     then you are good\n",
    "# otherwise\n",
    "#     you are bad"
   ]
  },
  {
   "cell_type": "code",
   "execution_count": 163,
   "id": "9c7219bc-fd29-4e6b-96fe-aa2df8b3f202",
   "metadata": {},
   "outputs": [
    {
     "name": "stdin",
     "output_type": "stream",
     "text": [
      "enter the course: data science\n",
      "enter the institute: naresh it\n"
     ]
    },
    {
     "name": "stdout",
     "output_type": "stream",
     "text": [
      "you are good\n"
     ]
    }
   ],
   "source": [
    "def course():\n",
    "        course=input(\"enter the course:\")\n",
    "        institute=input(\"enter the institute:\")\n",
    "        if course=='data science' and institute=='naresh it':\n",
    "            print(\"you are good\")\n",
    "        else:\n",
    "            print(\"you are bad\")\n",
    "course()"
   ]
  },
  {
   "cell_type": "code",
   "execution_count": 169,
   "id": "8bcf8e31-c292-4ff6-a4ed-4adfa6f39732",
   "metadata": {},
   "outputs": [
    {
     "name": "stdout",
     "output_type": "stream",
     "text": [
      "you are good\n"
     ]
    }
   ],
   "source": [
    "def course1(course,institute):\n",
    "             if course=='data science' and institute=='naresh it':\n",
    "                print(\"you are good\")\n",
    "             else:\n",
    "                print(\"you are bad\")\n",
    "course1(\"data science\",\"naresh it\")"
   ]
  },
  {
   "cell_type": "code",
   "execution_count": 171,
   "id": "8251af2a-a4de-47cc-b73d-19667a6a52b5",
   "metadata": {},
   "outputs": [],
   "source": [
    "# wap ask the user enter a random number between 1 to 10, treat this as number1\n",
    "# ask the user enter another number from keyboard, treat this as number2\n",
    "# if number1 equal to number2\n",
    "#     print you won\n",
    "# otherwise\n",
    "#     print you lost"
   ]
  },
  {
   "cell_type": "code",
   "execution_count": 223,
   "id": "59e24f05-9410-41b3-96c4-db8e3c97d78d",
   "metadata": {},
   "outputs": [
    {
     "name": "stdout",
     "output_type": "stream",
     "text": [
      "7\n"
     ]
    },
    {
     "name": "stdin",
     "output_type": "stream",
     "text": [
      "enter the number2: 6\n"
     ]
    },
    {
     "name": "stdout",
     "output_type": "stream",
     "text": [
      "you lost\n"
     ]
    }
   ],
   "source": [
    "def game():\n",
    "        num1=random.randint(1,10)\n",
    "        print(num1)\n",
    "        num2=eval(input(\"enter the number2:\"))\n",
    "        if num1==num2:\n",
    "            print(\"you won\")\n",
    "        else:\n",
    "            print(\"you lost\")\n",
    "game()"
   ]
  },
  {
   "cell_type": "code",
   "execution_count": 284,
   "id": "e77d61b0-a366-4535-a1a9-3081142516b2",
   "metadata": {},
   "outputs": [
    {
     "name": "stdout",
     "output_type": "stream",
     "text": [
      "The random number was 3\n",
      "you lost\n"
     ]
    }
   ],
   "source": [
    "def game1(a,b):    \n",
    "        print(\"The random number was\",a) \n",
    "        if a==b:\n",
    "            print(\"you won\")\n",
    "        else:\n",
    "            print(\"you lost\")         \n",
    "game1(random.randint(1,10),8)\n"
   ]
  },
  {
   "cell_type": "code",
   "execution_count": null,
   "id": "8cbe2d4c-ddd4-4092-a601-9bd9e896fe1b",
   "metadata": {},
   "outputs": [],
   "source": [
    "# wap ask the user enter number\n",
    "# if number equal to 1 then print one\n",
    "# if number equal to 2 then print two\n",
    "# if number equal to 3 then print three\n",
    "# otherwise  print enter a valid number"
   ]
  },
  {
   "cell_type": "code",
   "execution_count": 237,
   "id": "b9ad36b4-6a2c-4060-b9d2-bc634f2b6968",
   "metadata": {},
   "outputs": [
    {
     "name": "stdin",
     "output_type": "stream",
     "text": [
      "enter the number: 3\n"
     ]
    },
    {
     "name": "stdout",
     "output_type": "stream",
     "text": [
      "three\n"
     ]
    }
   ],
   "source": [
    "def number():\n",
    "        num=eval(input(\"enter the number:\"))\n",
    "        if num==1:\n",
    "            print(\"one\")\n",
    "        elif num==2:\n",
    "            print(\"two\")\n",
    "        elif num==3:\n",
    "            print(\"three\")\n",
    "        else:\n",
    "            print(\"enter a valid number\")\n",
    "number()"
   ]
  },
  {
   "cell_type": "code",
   "execution_count": 239,
   "id": "c78a414f-1fe2-44a8-981e-72181216351d",
   "metadata": {},
   "outputs": [
    {
     "name": "stdout",
     "output_type": "stream",
     "text": [
      "enter a valid number\n"
     ]
    }
   ],
   "source": [
    "def numberz(num):\n",
    "        if num==1:\n",
    "            print(\"one\")\n",
    "        elif num==2:\n",
    "            print(\"two\")\n",
    "        elif num==3:\n",
    "            print(\"three\")\n",
    "        else:\n",
    "            print(\"enter a valid number\")\n",
    "numberz(4)\n",
    "    "
   ]
  },
  {
   "cell_type": "code",
   "execution_count": 241,
   "id": "db8f0064-5f1d-47ca-819f-995951a600c7",
   "metadata": {},
   "outputs": [],
   "source": [
    "# wap ask the user enter a number\n",
    "# if that number greater than zero print postive\n",
    "# if that number less than zero print negative\n",
    "# otherwise print zero"
   ]
  },
  {
   "cell_type": "code",
   "execution_count": 243,
   "id": "5a5b6b4b-79a9-45d5-9ddd-bf220fd2f773",
   "metadata": {},
   "outputs": [
    {
     "name": "stdin",
     "output_type": "stream",
     "text": [
      "enter num: 33\n"
     ]
    },
    {
     "name": "stdout",
     "output_type": "stream",
     "text": [
      "positive\n"
     ]
    }
   ],
   "source": [
    "def number1():\n",
    "        num = eval(input(\"enter num:\"))\n",
    "        if num>0:\n",
    "            print(\"positive\")\n",
    "        elif num<0:\n",
    "            print(\"negative\")\n",
    "        else:\n",
    "            print(\"zero\")\n",
    "number1()"
   ]
  },
  {
   "cell_type": "code",
   "execution_count": 245,
   "id": "210268e2-44f1-4e17-ac03-ef6dd633d8d6",
   "metadata": {},
   "outputs": [
    {
     "name": "stdout",
     "output_type": "stream",
     "text": [
      "positive\n"
     ]
    }
   ],
   "source": [
    "def numberz1(num):\n",
    "        a = \n",
    "        if num>0:\n",
    "            print(\"positive\")\n",
    "        elif num<0:\n",
    "            print(\"negative\")\n",
    "        else:\n",
    "            print(\"zero\")\n",
    "numberz1(44)            "
   ]
  },
  {
   "cell_type": "code",
   "execution_count": 261,
   "id": "ced145f2-879f-4a46-a104-1265de3669b2",
   "metadata": {},
   "outputs": [],
   "source": [
    "# WAP ask the user enter the percentage of marks 0 to 100\n",
    "# if percentagw gretaer than 90  print A garde\n",
    "# if percentage between 75 to 90 print B garde\n",
    "# if percentage between 50 to 75 print C grade\n",
    "# if percentage between 35 to 50 print D grade\n",
    "# if percentage less than 35 print Fail"
   ]
  },
  {
   "cell_type": "code",
   "execution_count": 263,
   "id": "e940a06c-04b4-4e89-81e3-32829940e10c",
   "metadata": {},
   "outputs": [
    {
     "name": "stdin",
     "output_type": "stream",
     "text": [
      "enter the percentage 90\n"
     ]
    },
    {
     "name": "stdout",
     "output_type": "stream",
     "text": [
      "A grade\n"
     ]
    }
   ],
   "source": [
    "def grade():\n",
    "        percentage = eval(input(\"enter the percentage\"))\n",
    "        if percentage >= 90:\n",
    "            print(\"A grade\")\n",
    "        elif percentage >= 75:\n",
    "            print(\"B grade\")\n",
    "        elif percentage >=50:\n",
    "            print(\"C grade\")\n",
    "        elif percentage >=35:\n",
    "            print(\"D grade\")\n",
    "        else:\n",
    "            print(\"fail\")\n",
    "grade()"
   ]
  },
  {
   "cell_type": "code",
   "execution_count": 270,
   "id": "c4d0a503-d059-486a-b6ac-896142fcd203",
   "metadata": {},
   "outputs": [
    {
     "name": "stdout",
     "output_type": "stream",
     "text": [
      "B grade\n"
     ]
    }
   ],
   "source": [
    "def grade1(percentage):\n",
    "        if percentage >= 90:\n",
    "            print(\"A grade\")\n",
    "        elif percentage >= 75:\n",
    "            print(\"B grade\")\n",
    "        elif percentage >=50:\n",
    "            print(\"C grade\")\n",
    "        elif percentage >=35:\n",
    "            print(\"D grade\")\n",
    "        else:\n",
    "            print(\"fail\")\n",
    "grade1(88)"
   ]
  },
  {
   "cell_type": "code",
   "execution_count": 272,
   "id": "6f3da912-f227-4b1d-af08-95f882ee9d28",
   "metadata": {},
   "outputs": [],
   "source": [
    "# WAP ask the user enter the age\n",
    "# if the age greater tahn 100 print you are lucky\n",
    "# if the age gretaer than 75 print old age\n",
    "# if the age  between 50 to 75 print ss\n",
    "# if the age between  30 tp 50 print MA\n",
    "# if the age between  15 to 30 print young age\n",
    "# if the afe between less than 15 print kid"
   ]
  },
  {
   "cell_type": "code",
   "execution_count": 274,
   "id": "9e53ba73-7f1f-4b6d-8ab2-343304c686bf",
   "metadata": {},
   "outputs": [
    {
     "name": "stdin",
     "output_type": "stream",
     "text": [
      "enter the age: 7\n"
     ]
    },
    {
     "name": "stdout",
     "output_type": "stream",
     "text": [
      "kid\n"
     ]
    }
   ],
   "source": [
    "def age():\n",
    "        age = eval(input(\"enter the age:\"))\n",
    "        if age >= 100:\n",
    "            print(\"you are lucky\")\n",
    "        elif age>= 75:\n",
    "            print(\"old age\")\n",
    "        elif age>=50:\n",
    "            print(\"ss\")\n",
    "        elif age>=30:\n",
    "            print(\"MA\")\n",
    "        elif age>=15:\n",
    "            print(\"young age\")   \n",
    "        else:\n",
    "            print(\"kid\")\n",
    "age()"
   ]
  },
  {
   "cell_type": "code",
   "execution_count": 282,
   "id": "84590d92-c5f5-4744-87b7-8d643c1e7095",
   "metadata": {},
   "outputs": [
    {
     "name": "stdout",
     "output_type": "stream",
     "text": [
      "young age\n"
     ]
    }
   ],
   "source": [
    "def Age(age):\n",
    "        if age >= 100:\n",
    "            print(\"you are lucky\")\n",
    "        elif age>= 75:\n",
    "            print(\"old age\")\n",
    "        elif age>=50:\n",
    "            print(\"ss\")\n",
    "        elif age>=30:\n",
    "            print(\"MA\")\n",
    "        elif age>=15:\n",
    "            print(\"young age\")   \n",
    "        else:\n",
    "            print(\"kid\")\n",
    "Age(24)"
   ]
  },
  {
   "cell_type": "code",
   "execution_count": null,
   "id": "265146f9-0945-4516-9a9b-079e7017ecb5",
   "metadata": {},
   "outputs": [],
   "source": []
  }
 ],
 "metadata": {
  "kernelspec": {
   "display_name": "Python 3 (ipykernel)",
   "language": "python",
   "name": "python3"
  },
  "language_info": {
   "codemirror_mode": {
    "name": "ipython",
    "version": 3
   },
   "file_extension": ".py",
   "mimetype": "text/x-python",
   "name": "python",
   "nbconvert_exporter": "python",
   "pygments_lexer": "ipython3",
   "version": "3.11.7"
  }
 },
 "nbformat": 4,
 "nbformat_minor": 5
}
