{
 "cells": [
  {
   "cell_type": "code",
   "execution_count": 3,
   "id": "6cd6afdd-6315-427f-993e-fee434ef086d",
   "metadata": {},
   "outputs": [],
   "source": [
    "#1Q) For example\n",
    "# take a random number between  1 to 100\n",
    "# print it is a even number and odd number\n",
    "# you need to generate 3 random number\n"
   ]
  },
  {
   "cell_type": "code",
   "execution_count": 9,
   "id": "f3a1c310-4148-47b3-b2bf-8c3f7fc369bf",
   "metadata": {},
   "outputs": [
    {
     "name": "stdout",
     "output_type": "stream",
     "text": [
      "3\n",
      "odd number\n",
      "28\n",
      "even number\n",
      "82\n",
      "even number\n"
     ]
    }
   ],
   "source": [
    "import random\n",
    "for i in range (3):\n",
    "    number = random.randint(1,100)\n",
    "    print(number)\n",
    "    if number%2 == 0:\n",
    "        print(\"even number\")\n",
    "    else:\n",
    "        print(\"odd number\")\n",
    "        "
   ]
  },
  {
   "cell_type": "code",
   "execution_count": 11,
   "id": "521e14ca-f29b-4863-84fa-fbf2b4127369",
   "metadata": {},
   "outputs": [],
   "source": [
    "#2Q) wap ask the user print the number is even or odd between 10 to 20"
   ]
  },
  {
   "cell_type": "code",
   "execution_count": 123,
   "id": "57d93d03-7816-410d-9261-64a2caa1a99b",
   "metadata": {},
   "outputs": [
    {
     "name": "stdout",
     "output_type": "stream",
     "text": [
      "10 even number\n",
      "11 odd number\n",
      "12 even number\n",
      "13 odd number\n",
      "14 even number\n",
      "15 odd number\n",
      "16 even number\n",
      "17 odd number\n",
      "18 even number\n",
      "19 odd number\n"
     ]
    }
   ],
   "source": [
    "for i in range (10,20):\n",
    "    print(i,end=\" \")\n",
    "    if i%2 == 0:\n",
    "        print(\"even number\")\n",
    "    else:\n",
    "        print(\"odd number\")"
   ]
  },
  {
   "cell_type": "code",
   "execution_count": 23,
   "id": "1afdcbcc-f167-4f87-a0a1-8da76852b4ba",
   "metadata": {},
   "outputs": [],
   "source": [
    "#3Q) wap ask the user print the square of the number between\n",
    "# 20 to 25"
   ]
  },
  {
   "cell_type": "code",
   "execution_count": 27,
   "id": "0adce06f-f280-4aec-aba1-a73d01537882",
   "metadata": {},
   "outputs": [
    {
     "name": "stdout",
     "output_type": "stream",
     "text": [
      "the square of 20 is 400\n",
      "the square of 21 is 441\n",
      "the square of 22 is 484\n",
      "the square of 23 is 529\n",
      "the square of 24 is 576\n"
     ]
    }
   ],
   "source": [
    "for i in range(20,25):\n",
    "    print(f\"the square of {i} is {i*i}\")"
   ]
  },
  {
   "cell_type": "code",
   "execution_count": 31,
   "id": "36a7cfce-03d3-4c35-beb1-36248e85eaa0",
   "metadata": {},
   "outputs": [],
   "source": [
    "#4Q) WAP ask the user enter number three times find the square of the number\n",
    "# How many times loop should run\n"
   ]
  },
  {
   "cell_type": "code",
   "execution_count": 35,
   "id": "50933317-87ee-4386-8efb-74694a308f07",
   "metadata": {},
   "outputs": [
    {
     "name": "stdin",
     "output_type": "stream",
     "text": [
      "enter the number 6\n"
     ]
    },
    {
     "name": "stdout",
     "output_type": "stream",
     "text": [
      "The square of 6 is 36\n"
     ]
    },
    {
     "name": "stdin",
     "output_type": "stream",
     "text": [
      "enter the number 5\n"
     ]
    },
    {
     "name": "stdout",
     "output_type": "stream",
     "text": [
      "The square of 5 is 25\n"
     ]
    },
    {
     "name": "stdin",
     "output_type": "stream",
     "text": [
      "enter the number 4\n"
     ]
    },
    {
     "name": "stdout",
     "output_type": "stream",
     "text": [
      "The square of 4 is 16\n"
     ]
    }
   ],
   "source": [
    "for i in range(3):\n",
    "    num=eval(input(\"enter the number\"))\n",
    "    print(f\"The square of {num} is {num*num}\")"
   ]
  },
  {
   "cell_type": "code",
   "execution_count": 37,
   "id": "e24ae2e0-bce9-4e99-9525-8f128dbfe4cb",
   "metadata": {},
   "outputs": [],
   "source": [
    "#5Q) Print the 14th table\n",
    "# ans:   14 x 1 = 14\n",
    "#        14 x 2 = 28\n",
    "#        14 x 3 = 42\n",
    "#\n",
    "#\n",
    "#        14 x10 = 140\n",
    "# How many times 10\n"
   ]
  },
  {
   "cell_type": "code",
   "execution_count": 41,
   "id": "b7ddee9f-90cd-4a6c-a61c-a1b5106fcf68",
   "metadata": {},
   "outputs": [
    {
     "name": "stdin",
     "output_type": "stream",
     "text": [
      "enter the table which you want to see 14\n"
     ]
    },
    {
     "name": "stdout",
     "output_type": "stream",
     "text": [
      "14 x 1 = 14\n",
      "14 x 2 = 28\n",
      "14 x 3 = 42\n",
      "14 x 4 = 56\n",
      "14 x 5 = 70\n",
      "14 x 6 = 84\n",
      "14 x 7 = 98\n",
      "14 x 8 = 112\n",
      "14 x 9 = 126\n",
      "14 x 10 = 140\n"
     ]
    }
   ],
   "source": [
    "num=eval(input(\"enter the table which you want to see\"))\n",
    "for i in range(1,11):\n",
    "    val=i*num\n",
    "    print(f\"{num} x {i} = {val}\")"
   ]
  },
  {
   "cell_type": "code",
   "execution_count": 43,
   "id": "99ac0da9-8b22-420c-92a0-6f8053d61dc5",
   "metadata": {},
   "outputs": [],
   "source": [
    "#6 Q) Find the factors of 75\n",
    "# step-1: Iterate the loop = which numbers factor you want\n",
    "# step-2: Apply the if condition\n",
    "#         cond= divide the number with each i\n"
   ]
  },
  {
   "cell_type": "code",
   "execution_count": 49,
   "id": "f6b4a5c2-bc49-47e0-b246-f67049d01de2",
   "metadata": {},
   "outputs": [
    {
     "name": "stdin",
     "output_type": "stream",
     "text": [
      "which number factors you want: 75\n"
     ]
    },
    {
     "name": "stdout",
     "output_type": "stream",
     "text": [
      "1 is the divisor of 75\n",
      "3 is the divisor of 75\n",
      "5 is the divisor of 75\n",
      "15 is the divisor of 75\n",
      "25 is the divisor of 75\n",
      "75 is the divisor of 75\n"
     ]
    }
   ],
   "source": [
    "num=eval(input(\"which number factors you want:\"))\n",
    "for i in range(1,num+1):\n",
    "    if num%i==0:\n",
    "       print(f\"{i} is the divisor of {num}\")"
   ]
  },
  {
   "cell_type": "code",
   "execution_count": 51,
   "id": "3a26a485-68cc-4d5b-a933-31573bf8e9c9",
   "metadata": {},
   "outputs": [],
   "source": [
    "#7Q) Write the sum of first 10 Natural numbers\n",
    "# 1 to 10\n",
    "# 1+2+3+4+5+6+7+8+9+10=55\n"
   ]
  },
  {
   "cell_type": "code",
   "execution_count": 137,
   "id": "43e93f6d-200e-47a0-a330-fd59407dba46",
   "metadata": {},
   "outputs": [
    {
     "name": "stdout",
     "output_type": "stream",
     "text": [
      "0+1=1\n",
      "1+2=3\n",
      "3+3=6\n",
      "6+4=10\n",
      "10+5=15\n",
      "15+6=21\n",
      "21+7=28\n",
      "28+8=36\n",
      "36+9=45\n",
      "45+10=55\n"
     ]
    }
   ],
   "source": [
    "summ=0\n",
    "for i in range(1,11):\n",
    "    summ=summ+i\n",
    "    print(f\"{summ-i}+{i}={summ}\")"
   ]
  },
  {
   "cell_type": "code",
   "execution_count": 55,
   "id": "ff59b929-cd24-4cc8-8740-a22d057ee975",
   "metadata": {},
   "outputs": [],
   "source": [
    "# 8Q) Average first 1 to 10 numbers\n",
    "# avg= summation of all the numbers/total number\n",
    "#Wap to find the average of ' N ' numbers in Python.\n"
   ]
  },
  {
   "cell_type": "code",
   "execution_count": 71,
   "id": "30b10d96-ca93-4868-9c4a-3fa5c0ca8d70",
   "metadata": {},
   "outputs": [
    {
     "name": "stdin",
     "output_type": "stream",
     "text": [
      "Enter the number: 6\n"
     ]
    },
    {
     "name": "stdout",
     "output_type": "stream",
     "text": [
      "3.5\n"
     ]
    }
   ],
   "source": [
    "summ=0\n",
    "N=eval(input('Enter the number:'))\n",
    "for i in range(1,N+1):\n",
    "    summ=summ+i\n",
    "print(summ/N)"
   ]
  },
  {
   "cell_type": "code",
   "execution_count": 63,
   "id": "65050ec1-3249-4446-a2c3-d1f95f98a05f",
   "metadata": {},
   "outputs": [],
   "source": [
    "#9Q) Find the number of divisors of 75\n",
    "# ans: 1,3,5,15,25,75\n",
    "# Number =6"
   ]
  },
  {
   "cell_type": "code",
   "execution_count": 69,
   "id": "d50411f1-44d3-4f92-8d0c-4b674606e089",
   "metadata": {},
   "outputs": [
    {
     "name": "stdin",
     "output_type": "stream",
     "text": [
      "which number factors you want: 75\n"
     ]
    },
    {
     "name": "stdout",
     "output_type": "stream",
     "text": [
      "The number of divisiors for 75 is 6\n"
     ]
    }
   ],
   "source": [
    "count=0\n",
    "num=eval(input(\"which number factors you want:\"))\n",
    "for i in range(1,num+1):\n",
    "    if num%i==0:\n",
    "        count=count+1\n",
    "print(f\"The number of divisiors for {num} is {count}\")"
   ]
  },
  {
   "cell_type": "code",
   "execution_count": 73,
   "id": "939750f7-7c44-4ff8-8cac-94e7173d4129",
   "metadata": {},
   "outputs": [],
   "source": [
    "# 10Q)\n",
    "# Get a random number between  1 to 10 :  num1\n",
    "# Ask the user enter a number : num2\n",
    "# if num1 == num2  then print won\n",
    "# else print fail\n",
    "\n",
    "# Give 3 chances\n",
    "\n",
    "\n",
    "\n",
    "\n"
   ]
  },
  {
   "cell_type": "code",
   "execution_count": 75,
   "id": "aedad823-9473-4531-8294-5d7195f2d2dd",
   "metadata": {},
   "outputs": [
    {
     "name": "stdout",
     "output_type": "stream",
     "text": [
      "7\n"
     ]
    },
    {
     "name": "stdin",
     "output_type": "stream",
     "text": [
      "enter the number between 1 to 10: 3\n"
     ]
    },
    {
     "name": "stdout",
     "output_type": "stream",
     "text": [
      "Fail\n",
      "8\n"
     ]
    },
    {
     "name": "stdin",
     "output_type": "stream",
     "text": [
      "enter the number between 1 to 10: 4\n"
     ]
    },
    {
     "name": "stdout",
     "output_type": "stream",
     "text": [
      "Fail\n",
      "3\n"
     ]
    },
    {
     "name": "stdin",
     "output_type": "stream",
     "text": [
      "enter the number between 1 to 10: 5\n"
     ]
    },
    {
     "name": "stdout",
     "output_type": "stream",
     "text": [
      "Fail\n"
     ]
    }
   ],
   "source": [
    "import random\n",
    "for i in range(3):\n",
    "    num1=random.randint(1,10)\n",
    "    print(num1)\n",
    "    num2=eval(input('enter the number between 1 to 10:'))\n",
    "    if num1==num2:\n",
    "       print('won')\n",
    "    else:\n",
    "       print('Fail')"
   ]
  },
  {
   "cell_type": "code",
   "execution_count": 77,
   "id": "56b3f809-faab-4ec4-b53c-246e7071ba93",
   "metadata": {},
   "outputs": [],
   "source": [
    "# Case-2: whenever you won the code should stop"
   ]
  },
  {
   "cell_type": "code",
   "execution_count": 81,
   "id": "49f7bf4b-8b79-4132-967b-18b6089011ba",
   "metadata": {},
   "outputs": [
    {
     "name": "stdout",
     "output_type": "stream",
     "text": [
      "1\n"
     ]
    },
    {
     "name": "stdin",
     "output_type": "stream",
     "text": [
      "enter the number between 1 to 10: 2\n"
     ]
    },
    {
     "name": "stdout",
     "output_type": "stream",
     "text": [
      "Fail\n",
      "1\n"
     ]
    },
    {
     "name": "stdin",
     "output_type": "stream",
     "text": [
      "enter the number between 1 to 10: 3\n"
     ]
    },
    {
     "name": "stdout",
     "output_type": "stream",
     "text": [
      "Fail\n",
      "2\n"
     ]
    },
    {
     "name": "stdin",
     "output_type": "stream",
     "text": [
      "enter the number between 1 to 10: 2\n"
     ]
    },
    {
     "name": "stdout",
     "output_type": "stream",
     "text": [
      "won\n"
     ]
    }
   ],
   "source": [
    "import random\n",
    "for i in range(3):\n",
    "    num1=random.randint(1,10)\n",
    "    print(num1)\n",
    "    num2=eval(input('enter the number between 1 to 10:'))\n",
    "    if num1==num2:\n",
    "       print('won')\n",
    "       break\n",
    "    else:\n",
    "       print('Fail')"
   ]
  },
  {
   "cell_type": "code",
   "execution_count": 83,
   "id": "132950ba-f201-47a7-bf06-d0f4fedc64ca",
   "metadata": {},
   "outputs": [],
   "source": [
    "# Case-3:\n",
    "# Suppose i want to give 4 chances\n",
    "# Every time you fail I want to display\n",
    "#      Number of chances left\n",
    "\n",
    "# If all the chances you are used\n",
    "#    Try again after 24 hours\n",
    "\n",
    "# If you are win\n"
   ]
  },
  {
   "cell_type": "code",
   "execution_count": 101,
   "id": "14f7dcdb-dc06-4c4d-a449-7be953360ca3",
   "metadata": {},
   "outputs": [
    {
     "name": "stdout",
     "output_type": "stream",
     "text": [
      "3\n"
     ]
    },
    {
     "name": "stdin",
     "output_type": "stream",
     "text": [
      "enter the number between 1 to 10: 7\n"
     ]
    },
    {
     "name": "stdout",
     "output_type": "stream",
     "text": [
      "fail  number of chances left: 3\n",
      "8\n"
     ]
    },
    {
     "name": "stdin",
     "output_type": "stream",
     "text": [
      "enter the number between 1 to 10: 9\n"
     ]
    },
    {
     "name": "stdout",
     "output_type": "stream",
     "text": [
      "fail  number of chances left: 2\n",
      "3\n"
     ]
    },
    {
     "name": "stdin",
     "output_type": "stream",
     "text": [
      "enter the number between 1 to 10: 0\n"
     ]
    },
    {
     "name": "stdout",
     "output_type": "stream",
     "text": [
      "fail  number of chances left: 1\n",
      "3\n"
     ]
    },
    {
     "name": "stdin",
     "output_type": "stream",
     "text": [
      "enter the number between 1 to 10: 4\n"
     ]
    },
    {
     "name": "stdout",
     "output_type": "stream",
     "text": [
      "fail  number of chances left: 0\n",
      "Try again after 24 hours\n"
     ]
    }
   ],
   "source": [
    "import random\n",
    "for i in range(4):\n",
    "    num1=random.randint(1,10)\n",
    "    print(num1)\n",
    "    num2=eval(input('enter the number between 1 to 10:'))\n",
    "    chances=3-i\n",
    "    if num1==num2:\n",
    "       print('won')\n",
    "       break\n",
    "    else:\n",
    "       print(\"fail  number of chances left:\",chances)\n",
    "    if i==3:\n",
    "       print(\"Try again after 24 hours\")"
   ]
  },
  {
   "cell_type": "code",
   "execution_count": 118,
   "id": "1916af10-5ebc-41ae-8108-3bd7d1b300d0",
   "metadata": {},
   "outputs": [],
   "source": [
    "#11)wap ask the user get 5 random numbers\n",
    "# Get it is an even number or odd number\n",
    "# also count how many even numbers are there\n",
    "# and  count how many odd numbers are there\n",
    "\n",
    "# Idea\n",
    "# take two counters one even and odd count\n",
    "# For loop 5 times\n",
    "# each time take the random number\n",
    "# If condition\n",
    "#    True counter update\n",
    "# else\n",
    "#   Update the counter\n"
   ]
  },
  {
   "cell_type": "code",
   "execution_count": 114,
   "id": "a9c36b60-8ccd-4f89-a4b1-44b086a96a4e",
   "metadata": {},
   "outputs": [
    {
     "name": "stdout",
     "output_type": "stream",
     "text": [
      "50\n",
      "27\n",
      "49\n",
      "6\n",
      "9\n",
      "total no of even numbers are:2\n",
      "total no of odd numbers are:3\n"
     ]
    }
   ],
   "source": [
    "import random\n",
    "even_count = 0 \n",
    "odd_count= 0\n",
    "for i in range(5):\n",
    "    a = random.randint(1,100)\n",
    "    print(a)\n",
    "    if a%2==0:\n",
    "        even_count = even_count+1\n",
    "    else:\n",
    "        odd_count = odd_count+1\n",
    "print(f\"total no of even numbers are:{even_count}\")\n",
    "print(f\"total no of odd numbers are:{odd_count}\")\n"
   ]
  },
  {
   "cell_type": "code",
   "execution_count": 116,
   "id": "c28d4995-c95e-41b8-8dfc-fa187ce62b7a",
   "metadata": {},
   "outputs": [],
   "source": [
    "#12)wap ask the user get 5 random numbers\n",
    "# Get it is an even number or odd number\n",
    "# also count how many even numbers are there\n",
    "# and  count how many odd numbers are there\n",
    "# I want summ even numbers\n",
    "# I want summ odd numbers"
   ]
  },
  {
   "cell_type": "code",
   "execution_count": 5,
   "id": "1ecd0071-e85d-43ff-9aeb-7b4847debbbf",
   "metadata": {},
   "outputs": [
    {
     "name": "stdout",
     "output_type": "stream",
     "text": [
      "36\n",
      "88\n",
      "3\n",
      "76\n",
      "30\n",
      "The total number of even numbers are: 4\n",
      "The total number of odd numbers are: 1\n",
      "The summation of all even numbers are: 230\n",
      "The summation number all odd numbers are: 3\n"
     ]
    }
   ],
   "source": [
    "import random\n",
    "even_count,odd_count=0,0\n",
    "even_sum,odd_sum=0,0\n",
    "for i in range(5):\n",
    "    num=random.randint(1,100)\n",
    "    print(num)\n",
    "    if num%2==0:\n",
    "        even_count=even_count+1\n",
    "        even_sum=even_sum+num\n",
    "    else:\n",
    "        odd_count=odd_count+1\n",
    "        odd_sum=odd_sum+num\n",
    "print(f\"The total number of even numbers are: {even_count}\")\n",
    "print(f\"The total number of odd numbers are: {odd_count}\")\n",
    "print(f\"The summation of all even numbers are: {even_sum}\")\n",
    "print(f\"The summation number all odd numbers are: {odd_sum}\")"
   ]
  },
  {
   "cell_type": "code",
   "execution_count": null,
   "id": "13b2fbf3-5eb9-4b43-9114-b79b0e373b93",
   "metadata": {},
   "outputs": [],
   "source": []
  }
 ],
 "metadata": {
  "kernelspec": {
   "display_name": "Python 3 (ipykernel)",
   "language": "python",
   "name": "python3"
  },
  "language_info": {
   "codemirror_mode": {
    "name": "ipython",
    "version": 3
   },
   "file_extension": ".py",
   "mimetype": "text/x-python",
   "name": "python",
   "nbconvert_exporter": "python",
   "pygments_lexer": "ipython3",
   "version": "3.11.7"
  }
 },
 "nbformat": 4,
 "nbformat_minor": 5
}
