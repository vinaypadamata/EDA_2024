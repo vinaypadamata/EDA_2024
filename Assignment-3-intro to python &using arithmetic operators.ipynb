{
 "cells": [
  {
   "cell_type": "markdown",
   "id": "ba3ef802-540c-4c3e-855d-f63e6d88305d",
   "metadata": {},
   "source": [
    "1. Ramesh’s basic salary is input through the keyboard. His dearness allowance is 40% of basic salary, and\n",
    "house rent allowance is 20% of basic salary. Write a program to calculate his gross salary."
   ]
  },
  {
   "cell_type": "code",
   "execution_count": 13,
   "id": "f6be19f7-246b-4323-8a24-78a07407c374",
   "metadata": {},
   "outputs": [
    {
     "name": "stdin",
     "output_type": "stream",
     "text": [
      "basic_salary: 1000\n"
     ]
    },
    {
     "name": "stdout",
     "output_type": "stream",
     "text": [
      "gross_salary is:400.0\n"
     ]
    }
   ],
   "source": [
    "basic_salary = eval(input(\"basic_salary:\"))\n",
    "dearness_allowance = basic_salary*40/100\n",
    "house_rent = basic_salary*20/100\n",
    "gross_salary = basic_salary - (dearness_allowance+house_rent)\n",
    "print(f\"gross_salary is:{gross_salary}\")"
   ]
  },
  {
   "cell_type": "markdown",
   "id": "ddf2e817-a9d4-4d44-aa2c-82c935aabf09",
   "metadata": {},
   "source": [
    "2. The distance between two cities (in km.) is input through the keyboard. Write a program to convert and\n",
    "print this distance in meters, feet, inches and centimeters."
   ]
  },
  {
   "cell_type": "code",
   "execution_count": 15,
   "id": "42ca94dc-9575-43dc-b581-54343ef150bd",
   "metadata": {},
   "outputs": [
    {
     "name": "stdin",
     "output_type": "stream",
     "text": [
      "enter the distance: 88\n"
     ]
    },
    {
     "name": "stdout",
     "output_type": "stream",
     "text": [
      "distance_in_meters is:88000\n",
      "distance_in_feet is :288713.92000000004\n",
      "distance_in_inches is:3464568.8\n",
      "distance_in_centimeter is:8800000\n"
     ]
    }
   ],
   "source": [
    "distance_between_two_cities = eval(input(\"enter the distance:\"))\n",
    "distance_in_meters = distance_between_two_cities*1000\n",
    "distance_in_feet = distance_between_two_cities*3280.84\n",
    "distance_in_inches= distance_between_two_cities*39370.1\n",
    "distance_in_centimeter = distance_between_two_cities*100000\n",
    "print(f\"distance_in_meters is:{distance_in_meters}\")\n",
    "print(f\"distance_in_feet is :{distance_in_feet}\")\n",
    "print(f\"distance_in_inches is:{distance_in_inches}\")\n",
    "print(f\"distance_in_centimeter is:{distance_in_centimeter}\")"
   ]
  },
  {
   "cell_type": "markdown",
   "id": "eae8caa8-5056-43e5-9331-362648461d19",
   "metadata": {},
   "source": [
    "3. If the marks obtained by a student in five different subjects are input through the keyboard, find out the\n",
    "aggregate marks and percentage marks obtained by the student. Assume that the maximum marks that\n",
    "can be obtained by a student in each subject is 100."
   ]
  },
  {
   "cell_type": "code",
   "execution_count": 19,
   "id": "3772fa92-8a99-42db-bc46-caccc6749f76",
   "metadata": {},
   "outputs": [
    {
     "name": "stdin",
     "output_type": "stream",
     "text": [
      "marks_in_sub_1 88\n",
      "marks_in_sub_2 98\n",
      "marks_in_sub_3 78\n",
      "marks_in_sub_4 87\n",
      "marks_in_sub_5 90\n"
     ]
    },
    {
     "name": "stdout",
     "output_type": "stream",
     "text": [
      "aggregate_marks is :441\n",
      "percentage_marks is :88.2\n"
     ]
    }
   ],
   "source": [
    "marks_in_sub_1 = eval(input(\"marks_in_sub_1\"))\n",
    "marks_in_sub_2 = eval(input(\"marks_in_sub_2\"))\n",
    "marks_in_sub_3 = eval(input(\"marks_in_sub_3\"))\n",
    "marks_in_sub_4 = eval(input(\"marks_in_sub_4\"))\n",
    "marks_in_sub_5 = eval(input(\"marks_in_sub_5\"))\n",
    "aggregate_marks = (marks_in_sub_1+marks_in_sub_2+marks_in_sub_3+marks_in_sub_4+marks_in_sub_5)\n",
    "percentage_marks = (aggregate_marks / 500)*100\n",
    "print(f\"aggregate_marks is :{aggregate_marks}\")\n",
    "print(f\"percentage_marks is :{percentage_marks}\")"
   ]
  },
  {
   "cell_type": "markdown",
   "id": "cb34d652-108c-4f81-a473-4ec6fcc946e1",
   "metadata": {},
   "source": [
    "4. Temperature of a city in Fahrenheit degrees is input through the keyboard. Write a program to convert this\n",
    "temperature into Centigrade degrees."
   ]
  },
  {
   "cell_type": "code",
   "execution_count": 70,
   "id": "50df0453-4181-4c05-8d4b-ba770c5b3c15",
   "metadata": {},
   "outputs": [
    {
     "name": "stdin",
     "output_type": "stream",
     "text": [
      "enter the value: 95\n"
     ]
    },
    {
     "name": "stdout",
     "output_type": "stream",
     "text": [
      "temperature_in_centigrade is 35.0\n"
     ]
    }
   ],
   "source": [
    "Temperature_in_Fahrenheit = eval(input(\"enter the value:\"))\n",
    "temperature_in_centigrade = (5/9)*(Temperature_in_Fahrenheit-32)\n",
    "print(f\"temperature_in_centigrade is {temperature_in_centigrade}\")\n",
    "\n",
    "                                                   "
   ]
  },
  {
   "cell_type": "markdown",
   "id": "da066acc-9889-4120-8559-dc7e353c9d3f",
   "metadata": {},
   "source": [
    "5. The length & breadth of a rectangle and radius of a circle are input through the keyboard. Write a program\n",
    "to calculate the area & perimeter of the rectangle, and the area & circumference of the circle."
   ]
  },
  {
   "cell_type": "code",
   "execution_count": 77,
   "id": "45613f35-8ff9-4f13-a372-5590f79851d5",
   "metadata": {},
   "outputs": [
    {
     "name": "stdin",
     "output_type": "stream",
     "text": [
      "length: 5\n",
      "breadth: 9\n",
      "radius: 7\n"
     ]
    },
    {
     "name": "stdout",
     "output_type": "stream",
     "text": [
      "area_of_rectangle is:45\n",
      "perimeter_of_rectangle is:28\n",
      "circumference_of_the_circle is:43.96\n",
      "area_of_the_circle is:153.86\n"
     ]
    }
   ],
   "source": [
    "length_of_rectangle = eval(input(\"length:\"))\n",
    "breadth_of_the_rectangle = eval(input(\"breadth:\"))\n",
    "area_of_rectangle = (length_of_rectangle) * (breadth_of_the_rectangle)\n",
    "perimeter_of_rectangle = 2*((length_of_rectangle) + (breadth_of_the_rectangle))\n",
    "radius_of_the_circle = eval(input(\"radius:\"))\n",
    "circumference_of_the_circle = 2*(3.14)*(radius_of_the_circle)\n",
    "area_of_the_circle = (3.14)*(radius_of_the_circle)*(radius_of_the_circle)\n",
    "print(f\"area_of_rectangle is:{area_of_rectangle}\")\n",
    "print(f\"perimeter_of_rectangle is:{perimeter_of_rectangle}\")\n",
    "print(f\"circumference_of_the_circle is:{circumference_of_the_circle }\")\n",
    "print(f\"area_of_the_circle is:{area_of_the_circle}\")"
   ]
  },
  {
   "cell_type": "markdown",
   "id": "c8b158bb-4642-4f01-a9fe-72392ede4bd9",
   "metadata": {},
   "source": [
    "6. Two numbers are input through the keyboard into two locations C and D. Write a program to interchange\n",
    "the contents of C and D."
   ]
  },
  {
   "cell_type": "code",
   "execution_count": 20,
   "id": "396115b7-c6ed-4429-b6b7-6eaf887da14a",
   "metadata": {},
   "outputs": [
    {
     "name": "stdin",
     "output_type": "stream",
     "text": [
      "C: 60\n",
      "D: 70\n"
     ]
    },
    {
     "name": "stdout",
     "output_type": "stream",
     "text": [
      "C is :70\n",
      "D is :60\n"
     ]
    }
   ],
   "source": [
    "C = eval(input(\"C:\"))\n",
    "D = eval(input(\"D:\"))\n",
    "print(f\"C is :{D}\")\n",
    "print(f\"D is :{C}\")"
   ]
  },
  {
   "cell_type": "code",
   "execution_count": 22,
   "id": "c2a7d77f-784b-4da9-960e-1c7d4f17e56a",
   "metadata": {},
   "outputs": [
    {
     "name": "stdin",
     "output_type": "stream",
     "text": [
      "C: 100\n",
      "D: 200\n"
     ]
    },
    {
     "name": "stdout",
     "output_type": "stream",
     "text": [
      " C is :200\n",
      " D is: 100\n"
     ]
    }
   ],
   "source": [
    "c = eval(input(\"C:\"))\n",
    "d = eval(input(\"D:\"))\n",
    "c = c + d\n",
    "d = c - d\n",
    "c = c - d \n",
    "print(f\" C is :{c}\")\n",
    "print(f\" D is: {d}\")"
   ]
  },
  {
   "cell_type": "markdown",
   "id": "bc5be4b8-0846-4b7d-b950-5cffa167810a",
   "metadata": {},
   "source": [
    "7. If a five-digit number is input through the keyboard, write a program to reverse the number."
   ]
  },
  {
   "cell_type": "code",
   "execution_count": 25,
   "id": "8f7a5258-368d-48e7-8c4c-879b139186c4",
   "metadata": {},
   "outputs": [
    {
     "name": "stdin",
     "output_type": "stream",
     "text": [
      "enter the number: 12345\n"
     ]
    },
    {
     "name": "stdout",
     "output_type": "stream",
     "text": [
      "five digit number is:12345\n",
      "54321"
     ]
    }
   ],
   "source": [
    "num = eval(input(\"enter the number:\"))\n",
    "print(f\"five digit number is:{num}\")\n",
    "i=0\n",
    "for i in range(5):\n",
    "    a = num % 10\n",
    "    b = num // 10\n",
    "    num=b\n",
    "    print(a, end=\"\")\n"
   ]
  },
  {
   "cell_type": "code",
   "execution_count": null,
   "id": "c4b63abb-f65f-4cc3-b26b-1f0845d6ca1e",
   "metadata": {},
   "outputs": [],
   "source": []
  },
  {
   "cell_type": "markdown",
   "id": "97ee76d6-4dfb-46c7-894d-b79fd4e5e906",
   "metadata": {},
   "source": [
    "8. If a four-digit number is input through the keyboard, write a program to obtain the sum of the first and last\n",
    "digit of this number."
   ]
  },
  {
   "cell_type": "code",
   "execution_count": 11,
   "id": "80ff0c88-82ae-4282-90e4-b668e7e363a7",
   "metadata": {},
   "outputs": [
    {
     "name": "stdin",
     "output_type": "stream",
     "text": [
      "number: 7654\n"
     ]
    },
    {
     "name": "stdout",
     "output_type": "stream",
     "text": [
      "11\n"
     ]
    }
   ],
   "source": [
    "a = eval(input(\"number:\"))\n",
    "b = a%10\n",
    "c = a//1000\n",
    "f = c + b\n",
    "print(f)\n"
   ]
  },
  {
   "cell_type": "markdown",
   "id": "65c2e593-352f-4583-ae5a-f44fd37e9952",
   "metadata": {},
   "source": [
    "9. In a town, the percentage of men is 52. The percentage of total literacy is 48. If total percentage of literate\n",
    "men is 35 of the total population, write a program to find the total number of illiterate men and women if\n",
    "the population of the town is 80,000."
   ]
  },
  {
   "cell_type": "code",
   "execution_count": 11,
   "id": "f427de8a-7309-450b-abda-af69209ea247",
   "metadata": {},
   "outputs": [
    {
     "name": "stdin",
     "output_type": "stream",
     "text": [
      "population of the town: 80000\n"
     ]
    },
    {
     "name": "stdout",
     "output_type": "stream",
     "text": [
      "percentage_of_men is:41600.0\n",
      "percentage_of_women is:38400.0\n",
      "The_percentage_of_total_literacy is:38400.0\n",
      "total_percentage_of_literate_men is:28000.0\n",
      "total_percentage_of_literate_women is:10400.0\n",
      "total_number_of_illiterate_men_and_women is:41600.0\n"
     ]
    }
   ],
   "source": [
    "population_of_the_town = eval(input(\"population of the town:\"))\n",
    "percentage_of_men = (population_of_the_town)*52/100\n",
    "print(f\"percentage_of_men is:{percentage_of_men }\")\n",
    "percentage_of_women = (population_of_the_town) - percentage_of_men\n",
    "print(f\"percentage_of_women is:{percentage_of_women}\")\n",
    "The_percentage_of_total_literacy = (population_of_the_town)*48/100\n",
    "print(f\"The_percentage_of_total_literacy is:{The_percentage_of_total_literacy}\")\n",
    "total_percentage_of_literate_men = (population_of_the_town)*35/100\n",
    "print(f\"total_percentage_of_literate_men is:{total_percentage_of_literate_men}\")\n",
    "total_percentage_of_literate_women = (The_percentage_of_total_literacy)-(total_percentage_of_literate_men)\n",
    "print(f\"total_percentage_of_literate_women is:{total_percentage_of_literate_women}\")\n",
    "total_number_of_illiterate_men_and_women = (population_of_the_town)-(The_percentage_of_total_literacy) \n",
    "print(f\"total_number_of_illiterate_men_and_women is:{total_number_of_illiterate_men_and_women}\")\n"
   ]
  },
  {
   "cell_type": "markdown",
   "id": "6ad8429c-8dd1-4857-bf98-2fbdaf2d5edc",
   "metadata": {},
   "source": [
    "10. A cashier has currency notes of denominations 10, 50 and 100. If the amount to be withdrawn is input\n",
    "through the keyboard in hundreds, find the total number of currency notes of each denomination the\n",
    "cashier will have to give to the withdrawer."
   ]
  },
  {
   "cell_type": "code",
   "execution_count": 1,
   "id": "bef45600-348d-477e-b4e4-c984cb13ff1d",
   "metadata": {},
   "outputs": [
    {
     "name": "stdin",
     "output_type": "stream",
     "text": [
      "enter the amount in denominations 10 , 50 and 100: 580\n"
     ]
    },
    {
     "name": "stdout",
     "output_type": "stream",
     "text": [
      "hundred:5\n",
      "fifty:1\n",
      "ten_note:3\n"
     ]
    }
   ],
   "source": [
    "amount = eval(input(\"enter the amount in denominations 10 , 50 and 100:\"))\n",
    "hundred_note = amount//100\n",
    "amount%=100\n",
    "print(f\"hundred:{hundred_note}\")\n",
    "fifty_note = amount //50\n",
    "amount%=50\n",
    "print(f\"fifty:{fifty_note}\")\n",
    "ten_note = amount//10\n",
    "print(f\"ten_note:{ten_note}\")"
   ]
  },
  {
   "cell_type": "code",
   "execution_count": null,
   "id": "669b60c1-94a8-4913-9952-8286982a6e88",
   "metadata": {},
   "outputs": [],
   "source": []
  }
 ],
 "metadata": {
  "kernelspec": {
   "display_name": "Python 3 (ipykernel)",
   "language": "python",
   "name": "python3"
  },
  "language_info": {
   "codemirror_mode": {
    "name": "ipython",
    "version": 3
   },
   "file_extension": ".py",
   "mimetype": "text/x-python",
   "name": "python",
   "nbconvert_exporter": "python",
   "pygments_lexer": "ipython3",
   "version": "3.11.7"
  }
 },
 "nbformat": 4,
 "nbformat_minor": 5
}
