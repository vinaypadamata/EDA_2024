{
 "cells": [
  {
   "cell_type": "markdown",
   "id": "1c45b665-fa91-425c-8803-a4ded2247e82",
   "metadata": {},
   "source": [
    "**Tuple**"
   ]
  },
  {
   "cell_type": "markdown",
   "id": "ea566e23-9136-41e5-9414-2de9931ca42f",
   "metadata": {},
   "source": [
    "- representation\n",
    "\n",
    "- type\n",
    "\n",
    "- len\n",
    "\n",
    "- max\n",
    "\n",
    "- min\n",
    "\n",
    "- sum\n",
    "\n",
    "- sorted\n",
    "\n",
    "- reversed\n",
    "\n",
    "- in\n",
    "\n",
    "- for loop with in\n",
    "\n",
    "- index\n",
    "\n",
    "- for loop with index\n",
    "\n",
    "- mutable and immutable\n",
    "\n",
    "- slicing\n",
    "\n",
    "- concatenation\n",
    "\n",
    "- Methods\n"
   ]
  },
  {
   "cell_type": "markdown",
   "id": "dc122323-194b-48e4-9d76-4d2d131e3455",
   "metadata": {},
   "source": [
    "**representation**\n",
    "\n"
   ]
  },
  {
   "cell_type": "code",
   "execution_count": 90,
   "id": "642ce9f7-7ea1-40aa-966e-7e51285abb54",
   "metadata": {},
   "outputs": [],
   "source": [
    "tup1 = (1,2,\"apple\",True,0,False)"
   ]
  },
  {
   "cell_type": "markdown",
   "id": "8a656cd3-c6d7-4658-a75b-4b29b179d392",
   "metadata": {},
   "source": [
    "**type()**"
   ]
  },
  {
   "cell_type": "code",
   "execution_count": 12,
   "id": "956bb123-6fa6-4789-8ec9-73b759cfdc2a",
   "metadata": {},
   "outputs": [
    {
     "data": {
      "text/plain": [
       "tuple"
      ]
     },
     "execution_count": 12,
     "metadata": {},
     "output_type": "execute_result"
    }
   ],
   "source": [
    "tup1 =(1,2,\"apple\",True,0,False)\n",
    "type(tup1)"
   ]
  },
  {
   "cell_type": "markdown",
   "id": "43b843ba-2d44-4f08-9b3e-442af879c044",
   "metadata": {},
   "source": [
    "**len()**"
   ]
  },
  {
   "cell_type": "code",
   "execution_count": 16,
   "id": "22f19f04-d26f-4414-a22d-69b6fabbe69a",
   "metadata": {},
   "outputs": [
    {
     "data": {
      "text/plain": [
       "6"
      ]
     },
     "execution_count": 16,
     "metadata": {},
     "output_type": "execute_result"
    }
   ],
   "source": [
    "tup1 =(1,2,\"apple\",True,0,False)\n",
    "a = len(tup1)\n",
    "a"
   ]
  },
  {
   "cell_type": "markdown",
   "id": "3acb1264-2451-4a58-991c-050a0a6cc306",
   "metadata": {},
   "source": [
    "**max**"
   ]
  },
  {
   "cell_type": "code",
   "execution_count": 32,
   "id": "98cbd172-0721-414b-b882-6e8140b4e7c7",
   "metadata": {},
   "outputs": [
    {
     "data": {
      "text/plain": [
       "'gate'"
      ]
     },
     "execution_count": 32,
     "metadata": {},
     "output_type": "execute_result"
    }
   ],
   "source": [
    "tup1 =('apple','gate')\n",
    "max(tup1)\n"
   ]
  },
  {
   "cell_type": "markdown",
   "id": "32aa1ea5-e9da-4acc-bde2-3fd521364156",
   "metadata": {},
   "source": [
    "**min**"
   ]
  },
  {
   "cell_type": "code",
   "execution_count": 34,
   "id": "20d04b37-4f61-42ec-a04a-ccf6e9633956",
   "metadata": {},
   "outputs": [
    {
     "data": {
      "text/plain": [
       "0"
      ]
     },
     "execution_count": 34,
     "metadata": {},
     "output_type": "execute_result"
    }
   ],
   "source": [
    "tup1 = (0,8,6,7)\n",
    "min(tup1)"
   ]
  },
  {
   "cell_type": "markdown",
   "id": "80cd4a24-db96-44e2-a62d-e3415524bc4a",
   "metadata": {},
   "source": [
    "**sum**"
   ]
  },
  {
   "cell_type": "code",
   "execution_count": 178,
   "id": "a4adea47-2bbe-48bc-93a2-b8432f9b11fc",
   "metadata": {},
   "outputs": [
    {
     "data": {
      "text/plain": [
       "14"
      ]
     },
     "execution_count": 178,
     "metadata": {},
     "output_type": "execute_result"
    }
   ],
   "source": [
    "tup1  = (2,3,4,5)\n",
    "sum = 0\n",
    "for i in tup1:\n",
    "    sum =sum+i\n",
    "\n",
    "sum"
   ]
  },
  {
   "cell_type": "markdown",
   "id": "05d0d4f1-5f5e-42f1-b06b-70f558f91bc3",
   "metadata": {},
   "source": [
    "**sorted**"
   ]
  },
  {
   "cell_type": "code",
   "execution_count": 49,
   "id": "5be4f084-d480-4bdb-b5dc-6f4a15379b6a",
   "metadata": {},
   "outputs": [
    {
     "data": {
      "text/plain": [
       "['a', 'b', 'i', 'j', 'l', 'n', 'r']"
      ]
     },
     "execution_count": 49,
     "metadata": {},
     "output_type": "execute_result"
    }
   ],
   "source": [
    "tup1 =('brinjal')\n",
    "sorted(tup1)"
   ]
  },
  {
   "cell_type": "markdown",
   "id": "22e1f642-f7ef-44f4-89f2-525516f6bb8c",
   "metadata": {},
   "source": [
    "**reversed**"
   ]
  },
  {
   "cell_type": "code",
   "execution_count": 112,
   "id": "3fbc742f-4330-4c53-b440-4d9872df1b79",
   "metadata": {},
   "outputs": [
    {
     "data": {
      "text/plain": [
       "<reversed at 0x2a4becf84f0>"
      ]
     },
     "execution_count": 112,
     "metadata": {},
     "output_type": "execute_result"
    }
   ],
   "source": [
    "tup1 =('brinjal')\n",
    "reversed(tup1)"
   ]
  },
  {
   "cell_type": "code",
   "execution_count": 62,
   "id": "0df10216-19bb-40cd-bea6-84c14129c00c",
   "metadata": {},
   "outputs": [
    {
     "name": "stdout",
     "output_type": "stream",
     "text": [
      "l\n",
      "a\n",
      "j\n",
      "n\n",
      "i\n",
      "r\n",
      "b\n"
     ]
    }
   ],
   "source": [
    "tup1 =reversed('brinjal')\n",
    "for i in tup1:\n",
    "   print(i) \n"
   ]
  },
  {
   "cell_type": "markdown",
   "id": "165867f1-5f08-4b02-8740-e4c740c8ad27",
   "metadata": {},
   "source": [
    "**in**"
   ]
  },
  {
   "cell_type": "code",
   "execution_count": 66,
   "id": "c26e6edb-4b78-4880-a5d7-a6c911f92a5b",
   "metadata": {},
   "outputs": [
    {
     "data": {
      "text/plain": [
       "True"
      ]
     },
     "execution_count": 66,
     "metadata": {},
     "output_type": "execute_result"
    }
   ],
   "source": [
    "tup1 =(1,2,3,4,5,6)\n",
    "1 in tup1"
   ]
  },
  {
   "cell_type": "markdown",
   "id": "fd578f76-cae7-4d58-9d2a-cea9b42a314a",
   "metadata": {},
   "source": [
    "**index**"
   ]
  },
  {
   "cell_type": "code",
   "execution_count": 71,
   "id": "ec920ece-0aaa-4916-bd50-cb095ef45998",
   "metadata": {},
   "outputs": [
    {
     "data": {
      "text/plain": [
       "'apple'"
      ]
     },
     "execution_count": 71,
     "metadata": {},
     "output_type": "execute_result"
    }
   ],
   "source": [
    "tup1 = (0,3,'apple',7,True)\n",
    "tup1[2]"
   ]
  },
  {
   "cell_type": "markdown",
   "id": "0019d372-9ac1-49df-9f53-0f8887da18c7",
   "metadata": {},
   "source": [
    "**for loop using index**"
   ]
  },
  {
   "cell_type": "code",
   "execution_count": 118,
   "id": "ec175169-cdd2-466f-8790-ea3d15de9781",
   "metadata": {},
   "outputs": [
    {
     "name": "stdout",
     "output_type": "stream",
     "text": [
      "('apple', 7)\n"
     ]
    }
   ],
   "source": [
    "tup1 = (0,3,'apple',7,True)\n",
    "for i in tup1: \n",
    "    a = tup1 [2:4]\n",
    "print(a)"
   ]
  },
  {
   "cell_type": "markdown",
   "id": "fae49928-e87e-4dbe-a1ad-f55ebc5e45ad",
   "metadata": {},
   "source": [
    "**mutable and immutable**"
   ]
  },
  {
   "cell_type": "code",
   "execution_count": 158,
   "id": "6108cbb3-eac7-4ae0-b947-ec4c13139849",
   "metadata": {},
   "outputs": [
    {
     "data": {
      "text/plain": [
       "('apple', 'banana', 0, 9, 8)"
      ]
     },
     "execution_count": 158,
     "metadata": {},
     "output_type": "execute_result"
    }
   ],
   "source": [
    "tup1 = ('apple','banana',0,9,8)\n",
    "tup1[0]==\"orange\"                        #tuple is immutable  means once values are assigned that cannot be changed\n",
    "tup1"
   ]
  },
  {
   "cell_type": "markdown",
   "id": "7e22e5db-f764-4ede-ba57-ba5ddd85a688",
   "metadata": {},
   "source": [
    "**slicing**"
   ]
  },
  {
   "cell_type": "code",
   "execution_count": 83,
   "id": "8ca4324d-4346-41ac-8747-0dfb1ab7d883",
   "metadata": {},
   "outputs": [
    {
     "data": {
      "text/plain": [
       "(0, 9, 8)"
      ]
     },
     "execution_count": 83,
     "metadata": {},
     "output_type": "execute_result"
    }
   ],
   "source": [
    "tup1 = ('apple','banana',0,9,8,'road')\n",
    "tup1[2:5]"
   ]
  },
  {
   "cell_type": "markdown",
   "id": "f6b62a1c-c8bf-417b-9320-4113086e7c35",
   "metadata": {},
   "source": [
    "**concatenation**"
   ]
  },
  {
   "cell_type": "code",
   "execution_count": 86,
   "id": "bdd089a6-9f72-48c6-a3b0-18cd76d2e509",
   "metadata": {},
   "outputs": [
    {
     "data": {
      "text/plain": [
       "('apple', 'banana', 0, 9, 8, 'road', 1, 2, 3, 4)"
      ]
     },
     "execution_count": 86,
     "metadata": {},
     "output_type": "execute_result"
    }
   ],
   "source": [
    "tup1 = ('apple','banana',0,9,8,'road')\n",
    "tup2 = (1,2,3,4)\n",
    "a = tup1+tup2\n",
    "a"
   ]
  },
  {
   "cell_type": "markdown",
   "id": "21ca8205-933d-49ef-b494-1c605a953a14",
   "metadata": {},
   "source": [
    "**methods**"
   ]
  },
  {
   "cell_type": "code",
   "execution_count": 124,
   "id": "93069bf5-d15a-4802-bcaa-70101e0437cd",
   "metadata": {},
   "outputs": [
    {
     "data": {
      "text/plain": [
       "['__add__',\n",
       " '__class__',\n",
       " '__class_getitem__',\n",
       " '__contains__',\n",
       " '__delattr__',\n",
       " '__dir__',\n",
       " '__doc__',\n",
       " '__eq__',\n",
       " '__format__',\n",
       " '__ge__',\n",
       " '__getattribute__',\n",
       " '__getitem__',\n",
       " '__getnewargs__',\n",
       " '__getstate__',\n",
       " '__gt__',\n",
       " '__hash__',\n",
       " '__init__',\n",
       " '__init_subclass__',\n",
       " '__iter__',\n",
       " '__le__',\n",
       " '__len__',\n",
       " '__lt__',\n",
       " '__mul__',\n",
       " '__ne__',\n",
       " '__new__',\n",
       " '__reduce__',\n",
       " '__reduce_ex__',\n",
       " '__repr__',\n",
       " '__rmul__',\n",
       " '__setattr__',\n",
       " '__sizeof__',\n",
       " '__str__',\n",
       " '__subclasshook__',\n",
       " 'count',\n",
       " 'index']"
      ]
     },
     "execution_count": 124,
     "metadata": {},
     "output_type": "execute_result"
    }
   ],
   "source": [
    "dir(())"
   ]
  },
  {
   "cell_type": "markdown",
   "id": "560ec3d3-c53b-4535-bfb6-017f4d64b67f",
   "metadata": {},
   "source": [
    "**count**"
   ]
  },
  {
   "cell_type": "code",
   "execution_count": 135,
   "id": "b4ce179d-460b-46d1-9e05-651935eee998",
   "metadata": {},
   "outputs": [
    {
     "data": {
      "text/plain": [
       "1"
      ]
     },
     "execution_count": 135,
     "metadata": {},
     "output_type": "execute_result"
    }
   ],
   "source": [
    "tup1 = ('apple','banana',0,9,8,'road',9)\n",
    "tup1.count('apple')"
   ]
  },
  {
   "cell_type": "code",
   "execution_count": 137,
   "id": "f53bed70-2895-4606-9941-ec03a9028c3d",
   "metadata": {},
   "outputs": [
    {
     "data": {
      "text/plain": [
       "2"
      ]
     },
     "execution_count": 137,
     "metadata": {},
     "output_type": "execute_result"
    }
   ],
   "source": [
    "tup1.count(9)"
   ]
  },
  {
   "cell_type": "markdown",
   "id": "4fd3b33e-47d0-499f-8ad6-63502b60a636",
   "metadata": {},
   "source": [
    "**index**"
   ]
  },
  {
   "cell_type": "code",
   "execution_count": 148,
   "id": "f63127d3-2389-4bca-903f-70018c8b2948",
   "metadata": {},
   "outputs": [
    {
     "data": {
      "text/plain": [
       "2"
      ]
     },
     "execution_count": 148,
     "metadata": {},
     "output_type": "execute_result"
    }
   ],
   "source": [
    "tup1=('Bat','apple','banana',0,9,8,'road')\n",
    "tup1.index('banana')"
   ]
  },
  {
   "cell_type": "code",
   "execution_count": 150,
   "id": "92a4ba2d-ed85-46c8-957c-93e11be6b9b7",
   "metadata": {},
   "outputs": [
    {
     "data": {
      "text/plain": [
       "4"
      ]
     },
     "execution_count": 150,
     "metadata": {},
     "output_type": "execute_result"
    }
   ],
   "source": [
    "tup1.index(9)"
   ]
  },
  {
   "cell_type": "code",
   "execution_count": null,
   "id": "28eb1f6d-23f2-42ba-b127-fb5ac8b8cf18",
   "metadata": {},
   "outputs": [],
   "source": []
  }
 ],
 "metadata": {
  "kernelspec": {
   "display_name": "Python 3 (ipykernel)",
   "language": "python",
   "name": "python3"
  },
  "language_info": {
   "codemirror_mode": {
    "name": "ipython",
    "version": 3
   },
   "file_extension": ".py",
   "mimetype": "text/x-python",
   "name": "python",
   "nbconvert_exporter": "python",
   "pygments_lexer": "ipython3",
   "version": "3.11.7"
  }
 },
 "nbformat": 4,
 "nbformat_minor": 5
}
