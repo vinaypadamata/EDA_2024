{
 "cells": [
  {
   "cell_type": "code",
   "execution_count": null,
   "id": "d120581f-9757-4041-bac4-a7c3856cfbb5",
   "metadata": {},
   "outputs": [],
   "source": [
    "Class room questions-1:\n",
    "# you need to take random values\n",
    "#11 the print statement using time.sleep\n",
    "1. Ask the user to enter a number. Print out the square of the number,\n",
    "Sample output is shown below.\n",
    "Enter a number: 5\n",
    "The square of 5 is 25.\n",
    "\n",
    "2. Ask the user to enter a number x. print out x, 2x, 3x, 4x, and 5x,\n",
    "each separated by three dashes, like below.\n",
    "Enter a number: 7\n",
    "7---14---21---28---35\n",
    "3. Write a program that asks the user for a weight in kilograms and\n",
    "converts it to pounds. There are 2.2 pounds in a kilogram.\n",
    "\n",
    "4. Write a program that asks the user to enter three numbers (use three\n",
    "separate input statements).Create variables called total and average\n",
    "that hold the sum and average of the three numbers and print out the\n",
    "values of total and average.\n",
    "    \n",
    "5. A lot of cell phones have tip calculators. Write one. Ask the user for\n",
    "the price of the meal and the percent tip they want to leave. Then\n",
    "print both the tip amount and the total bill with the tip included.\n",
    "    \n",
    "6. wap ask the user enter the 2 numbers find the subtraction,addition,\n",
    "multiplication and division\n",
    "\n",
    "7. wap ask the user enter radius values and pi value find the area\n",
    "of the circle\n",
    "\n",
    "8. wap ask the user bill amount in dollars, ask the user enter how\n",
    "much indian rupees for one dollar print the bill amount in rupees\n",
    "\n",
    "9. wap ask the user enter base height calculate area of the triangle\n",
    "\n",
    "10. wap ask the user enter length and breadth calculate area of the\n",
    "rectangle\n",
    "\n",
    "11. Let’s create a story between Father and daughter , You need\n",
    "to create a story by using print and input keywords\n",
    "You need to develop a python code same like below steps\n",
    "The goal of this code is to understand python is step by step\n",
    "process\n",
    "Step-1: input(“ Father: Hey Baby!”)\n",
    "Step-2: input(“Daughter: Hello Dady”)\n",
    "Step-3: input(“Father: I heard your exams are over, what about result”)\n",
    "Step-4: input(“Daughter: Yes dad! Results are out.”)\n",
    "Step-5: input(“Father: what is the percentage?”)\n",
    "Step-6: input(“Daughter: I will give my subject wise marks , you tell me the\n",
    "percentage”)\n",
    "Step-7: input(“Father : Okay!)\n",
    "Step-8: sub1=eval(input(“First Language:”))\n",
    "Step-9: sub2=eval(input(“Second language:”))\n",
    "Step-10: sub3=eval(input(“Third language:”))\n",
    "Step-11: sub4=eval(input(“Science:”))\n",
    "Step-12: sub5=eval(input(“Maths:”))\n",
    "Step-13: Daughter: Dad Now tell me how much percentage I got\n",
    "Step-14: Father: Tell me the max marks of each subject\n",
    "Step-15: max_marks=eval(input(“Daughter:”)) give=100\n",
    "Step-16: calculate the percentage of marks and print it"
   ]
  },
  {
   "cell_type": "code",
   "execution_count": 14,
   "id": "2edaad1d-daaf-4e34-8834-85c4fd387109",
   "metadata": {},
   "outputs": [
    {
     "name": "stdout",
     "output_type": "stream",
     "text": [
      "the square_of_num is:9\n"
     ]
    }
   ],
   "source": [
    "import random\n",
    "num = random.randint(1,20)\n",
    "square_of_num =(num*num)\n",
    "print(f\"the square_of_num is:{square_of_num}\")"
   ]
  },
  {
   "cell_type": "code",
   "execution_count": 56,
   "id": "10f23712-862a-4ca0-9bf0-5d6da92dff91",
   "metadata": {},
   "outputs": [
    {
     "name": "stdout",
     "output_type": "stream",
     "text": [
      "3----6----9----12----15\n"
     ]
    }
   ],
   "source": [
    "x = random.randint(1,30)\n",
    "print(x,2*x,3*x,4*x,5*x,sep = '----')"
   ]
  },
  {
   "cell_type": "code",
   "execution_count": 52,
   "id": "014e64f0-d91d-4115-9c6a-d22edacc159b",
   "metadata": {},
   "outputs": [
    {
     "name": "stdout",
     "output_type": "stream",
     "text": [
      "the total_weight is:129.8\n"
     ]
    }
   ],
   "source": [
    "weight = random.randint(20,250)\n",
    "total_weight = 2.2*weight\n",
    "print(f\"the total_weight is:{total_weight}\") "
   ]
  },
  {
   "cell_type": "code",
   "execution_count": 54,
   "id": "f893d1b7-b2ad-4e79-a446-96216ff45f9f",
   "metadata": {},
   "outputs": [
    {
     "name": "stdout",
     "output_type": "stream",
     "text": [
      "the avg of 5 , 27 and45 is: 25.666666666666668\n",
      "the total of 5 , 27 and45 is: 77\n"
     ]
    }
   ],
   "source": [
    "num1= random.randint(1,10)\n",
    "num2=random.randint(20,30)\n",
    "num3=random.randint(30,70)\n",
    "avg=(num1+num2+num3)/3\n",
    "total=(num1+num2+num3)\n",
    "print(f\"the avg of {num1} , {num2} and{num3} is: {avg}\")\n",
    "print(f\"the total of {num1} , {num2} and{num3} is: {total}\")"
   ]
  },
  {
   "cell_type": "code",
   "execution_count": 50,
   "id": "d55ee6aa-e801-4bd3-894c-1472d21510a6",
   "metadata": {},
   "outputs": [
    {
     "name": "stdout",
     "output_type": "stream",
     "text": [
      "the tip_amount is: 876.85\n",
      "the total_bill is: 5491.85\n"
     ]
    }
   ],
   "source": [
    "\n",
    "price_of_the_meal = random.randint(4000,5000)\n",
    "tip_percentage = random.randint(10,25)\n",
    "tip_amount = price_of_the_meal*tip_percentage/100\n",
    "total_bill = price_of_the_meal+tip_amount\n",
    "print(f\"the tip_amount is: {tip_amount}\")\n",
    "print(f\"the total_bill is: {total_bill}\")"
   ]
  },
  {
   "cell_type": "code",
   "execution_count": 48,
   "id": "ed5c6523-5bd9-4f15-a3c1-837978cf0c75",
   "metadata": {},
   "outputs": [
    {
     "name": "stdout",
     "output_type": "stream",
     "text": [
      "Addition of 22,47 is 69\n",
      "Subtraction of 22,47 is -25\n",
      "Multiplication of 22,47 is 1034\n",
      "Division of 22,47 is 0.46808510638297873\n"
     ]
    }
   ],
   "source": [
    "num1=random.randint(20,40)\n",
    "num2=random.randint(40,60)\n",
    "a = (num1+num2)\n",
    "b = (num1-num2)\n",
    "c = (num1*num2)\n",
    "d = (num1/num2)\n",
    "print(f\"Addition of {num1},{num2} is {a}\")\n",
    "print(f\"Subtraction of {num1},{num2} is {b}\")\n",
    "print(f\"Multiplication of {num1},{num2} is {c}\")\n",
    "print(f\"Division of {num1},{num2} is {d}\")"
   ]
  },
  {
   "cell_type": "code",
   "execution_count": 60,
   "id": "e0dc6cf3-efed-4345-9b2a-e52bb72db7b9",
   "metadata": {},
   "outputs": [
    {
     "name": "stdout",
     "output_type": "stream",
     "text": [
      "The area_of_the_circle is: 530.66\n"
     ]
    }
   ],
   "source": [
    "radius = random.randint(10,14)\n",
    "pi_value=3.14\n",
    "area_of_the_circle = pi_value*radius*radius\n",
    "print(f\"The area_of_the_circle is: {area_of_the_circle}\")"
   ]
  },
  {
   "cell_type": "code",
   "execution_count": 64,
   "id": "2116d144-cf18-4651-a830-6f8a6c47bd2c",
   "metadata": {},
   "outputs": [
    {
     "name": "stdout",
     "output_type": "stream",
     "text": [
      "the total_bill is: 10160\n"
     ]
    }
   ],
   "source": [
    "bill_amount_in_dollars = random.randint(20,400)\n",
    "one_dollar_in_rupees = random.randint(80,83)\n",
    "total_bill = (bill_amount_in_dollars*one_dollar_in_rupees)\n",
    "print(f\"the total_bill is: {total_bill}\") "
   ]
  },
  {
   "cell_type": "code",
   "execution_count": 66,
   "id": "33161c0e-1fb3-4e54-a526-38a61332767b",
   "metadata": {},
   "outputs": [
    {
     "name": "stdout",
     "output_type": "stream",
     "text": [
      "the area of triangle is : 187.0\n"
     ]
    }
   ],
   "source": [
    "base = random.randint(10,15) \n",
    "height= random.randint(20,34)\n",
    "area = 0.5*base*height\n",
    "print(f\"the area of triangle is : {area}\")"
   ]
  },
  {
   "cell_type": "code",
   "execution_count": 68,
   "id": "283aa285-213e-425b-b345-842dcc9c131f",
   "metadata": {},
   "outputs": [
    {
     "name": "stdout",
     "output_type": "stream",
     "text": [
      "the area of rectangle is : 462\n"
     ]
    }
   ],
   "source": [
    "length = random.randint(12,22)\n",
    "breadth= random.randint(22,30)\n",
    "area = length*breadth\n",
    "print(f\"the area of rectangle is : {area}\")"
   ]
  },
  {
   "cell_type": "code",
   "execution_count": 38,
   "id": "04374a5e-1b14-4718-aa7e-9c8da07abe7f",
   "metadata": {},
   "outputs": [
    {
     "name": "stdout",
     "output_type": "stream",
     "text": [
      "Father:  Hi Baby!\n",
      "Daughter:  Hello Dad\n",
      "Father:  I heard your exams are over.what about results? \n",
      "Daughter:  Yes dad! Results are out\n",
      "Father:  What is the percentage?\n",
      "Daughter:  I will give my subject wise marks, you tell me the percentage\n",
      "Father:  Okay!\n",
      "Marks in first language:56\n",
      "Marks in second language:52\n",
      "Marks in Third language:92\n",
      "Marks in Science:95\n",
      "Marks in Maths:99\n",
      "Daughter: Dad Now tell me how much percentage I got\n",
      "Father:  Tell me max marks of each subject\n",
      " max_marks are: 100\n",
      " Your total percentage is :78.8\n"
     ]
    }
   ],
   "source": [
    "import time\n",
    "print(\"Father:  Hi Baby!\")\n",
    "time.sleep(4)\n",
    "print(\"Daughter:  Hello Dad\")\n",
    "time.sleep(2)\n",
    "print(\"Father:  I heard your exams are over.what about results? \")\n",
    "time.sleep(4)\n",
    "print(\"Daughter:  Yes dad! Results are out\")\n",
    "time.sleep(2)\n",
    "print(\"Father:  What is the percentage?\")\n",
    "time.sleep(4)\n",
    "print(\"Daughter:  I will give my subject wise marks, you tell me the percentage\")\n",
    "time.sleep(2)\n",
    "print(\"Father:  Okay!\")\n",
    "time.sleep(4)\n",
    "sub1=random.randint(1,100)\n",
    "time.sleep(1)\n",
    "sub2=random.randint(50,100)\n",
    "time.sleep(1)\n",
    "sub3=random.randint(70,100)\n",
    "time.sleep(1)\n",
    "sub4=random.randint(75,100)\n",
    "time.sleep(1)\n",
    "sub5=random.randint(90,100)\n",
    "time.sleep(1)\n",
    "print(f\"Marks in first language:{sub1}\")\n",
    "time.sleep(1.5)\n",
    "print(f\"Marks in second language:{sub2}\")\n",
    "time.sleep(1.5)\n",
    "print(f\"Marks in Third language:{sub3}\")\n",
    "time.sleep(1.5)\n",
    "print(f\"Marks in Science:{sub4}\")\n",
    "time.sleep(1.5)\n",
    "print(f\"Marks in Maths:{sub5}\")\n",
    "time.sleep(1.5)\n",
    "print(\"Daughter: Dad Now tell me how much percentage I got\")\n",
    "time.sleep(2)\n",
    "print(\"Father:  Tell me max marks of each subject\")\n",
    "time.sleep(4)\n",
    "max_marks = 100\n",
    "time.sleep(1)\n",
    "print(f\" max_marks are: {max_marks}\")\n",
    "time.sleep(1)\n",
    "percentage = (sub1+sub2+sub3+sub4+sub5)/500*100\n",
    "time.sleep(1)\n",
    "print(f\" Your total percentage is :{percentage}\")\n",
    "time.sleep(1)"
   ]
  },
  {
   "cell_type": "code",
   "execution_count": null,
   "id": "24d8342e-8f0e-4d5c-818d-e88dff361bcf",
   "metadata": {},
   "outputs": [],
   "source": []
  }
 ],
 "metadata": {
  "kernelspec": {
   "display_name": "Python 3 (ipykernel)",
   "language": "python",
   "name": "python3"
  },
  "language_info": {
   "codemirror_mode": {
    "name": "ipython",
    "version": 3
   },
   "file_extension": ".py",
   "mimetype": "text/x-python",
   "name": "python",
   "nbconvert_exporter": "python",
   "pygments_lexer": "ipython3",
   "version": "3.11.7"
  }
 },
 "nbformat": 4,
 "nbformat_minor": 5
}
