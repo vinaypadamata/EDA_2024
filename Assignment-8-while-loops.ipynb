{
 "cells": [
  {
   "cell_type": "code",
   "execution_count": 1,
   "id": "a48472c1-3275-4b26-a09c-61b1e6532ddb",
   "metadata": {},
   "outputs": [],
   "source": [
    "#1Q) For example\n",
    "# take a random number between  1 to 100\n",
    "# print it is a even number and odd number\n",
    "# you need to generate 3 random number\n"
   ]
  },
  {
   "cell_type": "code",
   "execution_count": 97,
   "id": "aa839621-2cb3-44d7-a91e-a9d007e50e5c",
   "metadata": {},
   "outputs": [
    {
     "name": "stdout",
     "output_type": "stream",
     "text": [
      "88 even number\n",
      "99 odd number\n",
      "83 odd number\n"
     ]
    }
   ],
   "source": [
    "import random\n",
    "i=0\n",
    "while i<3:\n",
    "    i=i+1\n",
    "    number = random.randint(1,100)\n",
    "    print(number,end=' ')\n",
    "    if number%2 == 0:\n",
    "        print(\"even number\")\n",
    "    else:\n",
    "        print(\"odd number\")\n",
    "        "
   ]
  },
  {
   "cell_type": "code",
   "execution_count": 5,
   "id": "bd8cd31b-7389-44f3-a3d4-c684ae9d1a1d",
   "metadata": {},
   "outputs": [],
   "source": [
    "#2Q) wap ask the user print the number is even or odd between 10 to 20"
   ]
  },
  {
   "cell_type": "code",
   "execution_count": 95,
   "id": "8f87ed30-82cf-44c7-97de-e507e0e4ee84",
   "metadata": {},
   "outputs": [
    {
     "name": "stdout",
     "output_type": "stream",
     "text": [
      "10 even number\n",
      "11 odd number\n",
      "12 even number\n",
      "13 odd number\n",
      "14 even number\n",
      "15 odd number\n",
      "16 even number\n",
      "17 odd number\n",
      "18 even number\n",
      "19 odd number\n"
     ]
    }
   ],
   "source": [
    "i=10\n",
    "while i <20:\n",
    "    print(i,end=' ')\n",
    "    if i%2 == 0:\n",
    "        print(\"even number\")\n",
    "    else:\n",
    "        print(\"odd number\")\n",
    "    i=i+1"
   ]
  },
  {
   "cell_type": "code",
   "execution_count": 9,
   "id": "346023f5-73b2-46e9-8192-b037a045c0e9",
   "metadata": {},
   "outputs": [],
   "source": [
    "#3Q) wap ask the user print the square of the number between\n",
    "# 20 to 25"
   ]
  },
  {
   "cell_type": "code",
   "execution_count": 11,
   "id": "bbd1520c-c4dd-4a1f-8e53-e15bca9cfea2",
   "metadata": {},
   "outputs": [
    {
     "name": "stdout",
     "output_type": "stream",
     "text": [
      "400\n",
      "441\n",
      "484\n",
      "529\n",
      "576\n"
     ]
    }
   ],
   "source": [
    "i = 20\n",
    "while i < 25:\n",
    "    print(i*i)\n",
    "    i = i+1"
   ]
  },
  {
   "cell_type": "code",
   "execution_count": 13,
   "id": "bf561080-6aaf-40a3-95be-68daee4c3a0b",
   "metadata": {},
   "outputs": [],
   "source": [
    "#4Q) WAP ask the user enter number three times find the square of the number\n",
    "# How many times loop should run"
   ]
  },
  {
   "cell_type": "code",
   "execution_count": 81,
   "id": "1d1285e2-faad-4573-8177-041a19e0a377",
   "metadata": {},
   "outputs": [
    {
     "name": "stdout",
     "output_type": "stream",
     "text": [
      "1\n",
      "4\n",
      "9\n"
     ]
    }
   ],
   "source": [
    "i = 1\n",
    "while i < 4:\n",
    "    print(i*i)\n",
    "    i = i+1"
   ]
  },
  {
   "cell_type": "code",
   "execution_count": 29,
   "id": "af9e62a9-0293-4e00-bcfe-c85b957dda96",
   "metadata": {},
   "outputs": [],
   "source": [
    "#5Q) Print the 14th table\n",
    "# ans:   14 x 1 = 14\n",
    "#        14 x 2 = 28\n",
    "#        14 x 3 = 42\n",
    "#\n",
    "#\n",
    "#        14 x10 = 140\n",
    "# How many times 10\n"
   ]
  },
  {
   "cell_type": "code",
   "execution_count": 31,
   "id": "3941a3ea-0798-4bf0-aeca-c6464d484255",
   "metadata": {},
   "outputs": [
    {
     "name": "stdin",
     "output_type": "stream",
     "text": [
      "enter the table which you want to see 14\n"
     ]
    },
    {
     "name": "stdout",
     "output_type": "stream",
     "text": [
      "14 x 1 = 14\n",
      "14 x 2 = 28\n",
      "14 x 3 = 42\n",
      "14 x 4 = 56\n",
      "14 x 5 = 70\n",
      "14 x 6 = 84\n",
      "14 x 7 = 98\n",
      "14 x 8 = 112\n",
      "14 x 9 = 126\n",
      "14 x 10 = 140\n"
     ]
    }
   ],
   "source": [
    "i = 1\n",
    "num=eval(input(\"enter the table which you want to see\"))\n",
    "while i<11:\n",
    "    val=i*num\n",
    "    print(f\"{num} x {i} = {val}\")\n",
    "    i=i+1"
   ]
  },
  {
   "cell_type": "code",
   "execution_count": 33,
   "id": "4903d634-f00b-4984-ba2a-06d73d7cbf23",
   "metadata": {},
   "outputs": [],
   "source": [
    "#6 Q) Find the factors of 75\n",
    "# step-1: Iterate the loop = which numbers factor you want\n",
    "# step-2: Apply the if condition\n",
    "#         cond= divide the number with each i\n"
   ]
  },
  {
   "cell_type": "code",
   "execution_count": 35,
   "id": "fd3cbb50-448f-4de2-a320-59abf360eacf",
   "metadata": {},
   "outputs": [
    {
     "name": "stdin",
     "output_type": "stream",
     "text": [
      "which number factors you want: 75\n"
     ]
    },
    {
     "name": "stdout",
     "output_type": "stream",
     "text": [
      "1 is the divisor of 75\n",
      "3 is the divisor of 75\n",
      "5 is the divisor of 75\n",
      "15 is the divisor of 75\n",
      "25 is the divisor of 75\n",
      "75 is the divisor of 75\n"
     ]
    }
   ],
   "source": [
    "i=1\n",
    "num=eval(input(\"which number factors you want:\"))\n",
    "while i<num+1:\n",
    "    if num%i==0:\n",
    "       print(f\"{i} is the divisor of {num}\")\n",
    "    i=i+1"
   ]
  },
  {
   "cell_type": "code",
   "execution_count": 37,
   "id": "b1a2d0e5-62ea-4838-8427-c14d1d891488",
   "metadata": {},
   "outputs": [],
   "source": [
    "#7Q) Write the sum of first 10 Natural numbers\n",
    "# 1 to 10\n",
    "# 1+2+3+4+5+6+7+8+9+10=55"
   ]
  },
  {
   "cell_type": "code",
   "execution_count": 39,
   "id": "5c92a8cc-86f9-4749-aed8-55d56bfdbf7d",
   "metadata": {},
   "outputs": [
    {
     "name": "stdout",
     "output_type": "stream",
     "text": [
      "0+1=1\n",
      "1+2=3\n",
      "3+3=6\n",
      "6+4=10\n",
      "10+5=15\n",
      "15+6=21\n",
      "21+7=28\n",
      "28+8=36\n",
      "36+9=45\n",
      "45+10=55\n"
     ]
    }
   ],
   "source": [
    "i = 1\n",
    "summ=0\n",
    "while i<11:\n",
    "    summ=summ+i\n",
    "    print(f\"{summ-i}+{i}={summ}\")\n",
    "    i = i+1"
   ]
  },
  {
   "cell_type": "code",
   "execution_count": 41,
   "id": "84b7bfc9-ed74-40f8-adfe-a532997aa726",
   "metadata": {},
   "outputs": [],
   "source": [
    "# 8Q) Average first 1 to 10 numbers\n",
    "# avg= summation of all the numbers/total number\n",
    "#Wap to find the average of ' N ' numbers in Python."
   ]
  },
  {
   "cell_type": "code",
   "execution_count": 73,
   "id": "4aa09bb1-bec5-4ef3-b2c2-893b0dc355db",
   "metadata": {},
   "outputs": [
    {
     "name": "stdin",
     "output_type": "stream",
     "text": [
      "Enter the number: 6\n"
     ]
    },
    {
     "name": "stdout",
     "output_type": "stream",
     "text": [
      "4.5\n"
     ]
    }
   ],
   "source": [
    "i = 1\n",
    "summ=0\n",
    "N=eval(input('Enter the number:'))\n",
    "while i < N+1:\n",
    "    i=i+1 \n",
    "    summ = summ+i\n",
    "print(summ/N)"
   ]
  },
  {
   "cell_type": "code",
   "execution_count": null,
   "id": "fbe83970-8ee8-4c2e-8a58-ec56601ceb63",
   "metadata": {},
   "outputs": [],
   "source": [
    "#9Q) Find the number of divisors of 75\n",
    "# ans: 1,3,5,15,25,75\n",
    "# Number =6"
   ]
  },
  {
   "cell_type": "code",
   "execution_count": 53,
   "id": "9be52ec8-216b-4d49-9d04-c89c469dae10",
   "metadata": {},
   "outputs": [
    {
     "name": "stdin",
     "output_type": "stream",
     "text": [
      "which number factors you want: 75\n"
     ]
    },
    {
     "name": "stdout",
     "output_type": "stream",
     "text": [
      "The number of divisiors for 75 is 6\n"
     ]
    }
   ],
   "source": [
    "i = 0\n",
    "count=0\n",
    "num=eval(input(\"which number factors you want:\"))\n",
    "while i < num+1:\n",
    "    i = i+1\n",
    "    if num%i==0:\n",
    "        count=count+1\n",
    "print(f\"The number of divisiors for {num} is {count}\")\n"
   ]
  },
  {
   "cell_type": "code",
   "execution_count": null,
   "id": "0470f6a7-6493-4117-a200-ec5672845e6c",
   "metadata": {},
   "outputs": [],
   "source": [
    "# 10Q)\n",
    "# Get a random number between  1 to 10 :  num1\n",
    "# Ask the user enter a number : num2\n",
    "# if num1 == num2  then print won\n",
    "# else print fail\n",
    "\n",
    "# Give 3 chances\n"
   ]
  },
  {
   "cell_type": "code",
   "execution_count": 85,
   "id": "fd1a4daf-fbd9-49aa-b8bf-b11ecac636a2",
   "metadata": {},
   "outputs": [
    {
     "name": "stdin",
     "output_type": "stream",
     "text": [
      "enter the number between 1 to 10: 5\n"
     ]
    },
    {
     "name": "stdout",
     "output_type": "stream",
     "text": [
      "3\n",
      "Fail\n"
     ]
    },
    {
     "name": "stdin",
     "output_type": "stream",
     "text": [
      "enter the number between 1 to 10: 7\n"
     ]
    },
    {
     "name": "stdout",
     "output_type": "stream",
     "text": [
      "2\n",
      "Fail\n"
     ]
    },
    {
     "name": "stdin",
     "output_type": "stream",
     "text": [
      "enter the number between 1 to 10: 9\n"
     ]
    },
    {
     "name": "stdout",
     "output_type": "stream",
     "text": [
      "6\n",
      "Fail\n"
     ]
    }
   ],
   "source": [
    "import random\n",
    "i = 0\n",
    "while i < 3:\n",
    "    num2=eval(input('enter the number between 1 to 10:'))\n",
    "    num1=random.randint(1,10)\n",
    "    print(num1)\n",
    "    if num1==num2:\n",
    "       print('won')\n",
    "    else:\n",
    "       print('Fail')\n",
    "    i=i+1\n",
    "    "
   ]
  },
  {
   "cell_type": "code",
   "execution_count": null,
   "id": "cbef63e3-2b1a-4126-88a6-b7f2995dae75",
   "metadata": {},
   "outputs": [],
   "source": [
    "# Case-2: whenever you won the code should stop"
   ]
  },
  {
   "cell_type": "code",
   "execution_count": 87,
   "id": "40116124-b7a5-48fa-8961-42aa514bc0da",
   "metadata": {},
   "outputs": [
    {
     "name": "stdin",
     "output_type": "stream",
     "text": [
      "enter the number between 1 to 10: 5\n"
     ]
    },
    {
     "name": "stdout",
     "output_type": "stream",
     "text": [
      "3\n",
      "Fail\n"
     ]
    },
    {
     "name": "stdin",
     "output_type": "stream",
     "text": [
      "enter the number between 1 to 10: 6\n"
     ]
    },
    {
     "name": "stdout",
     "output_type": "stream",
     "text": [
      "4\n",
      "Fail\n"
     ]
    },
    {
     "name": "stdin",
     "output_type": "stream",
     "text": [
      "enter the number between 1 to 10: 7\n"
     ]
    },
    {
     "name": "stdout",
     "output_type": "stream",
     "text": [
      "4\n",
      "Fail\n"
     ]
    }
   ],
   "source": [
    "import random\n",
    "i = 0 \n",
    "while i < 3:\n",
    "    num2=eval(input('enter the number between 1 to 10:'))\n",
    "    num1=random.randint(1,10)\n",
    "    print(num1)\n",
    "    if num1==num2:\n",
    "       print('won')\n",
    "       break\n",
    "    else:\n",
    "       print('Fail')\n",
    "    i = i+1"
   ]
  },
  {
   "cell_type": "code",
   "execution_count": null,
   "id": "8c27e521-342f-4672-a8b0-f6948aa36259",
   "metadata": {},
   "outputs": [],
   "source": [
    "# Case-3:\n",
    "# Suppose i want to give 4 chances\n",
    "# Every time you fail I want to display\n",
    "#      Number of chances left\n",
    "\n",
    "# If all the chances you are used\n",
    "#    Try again after 24 hours\n",
    "\n",
    "# If you are win\n"
   ]
  },
  {
   "cell_type": "code",
   "execution_count": 89,
   "id": "fe263425-9643-443d-8cdc-31d725f5ca18",
   "metadata": {},
   "outputs": [
    {
     "name": "stdout",
     "output_type": "stream",
     "text": [
      "4\n"
     ]
    },
    {
     "name": "stdin",
     "output_type": "stream",
     "text": [
      "enter the number between 1 to 10: 7\n"
     ]
    },
    {
     "name": "stdout",
     "output_type": "stream",
     "text": [
      "fail  number of chances left: 3\n",
      "2\n"
     ]
    },
    {
     "name": "stdin",
     "output_type": "stream",
     "text": [
      "enter the number between 1 to 10: 8\n"
     ]
    },
    {
     "name": "stdout",
     "output_type": "stream",
     "text": [
      "fail  number of chances left: 2\n",
      "3\n"
     ]
    },
    {
     "name": "stdin",
     "output_type": "stream",
     "text": [
      "enter the number between 1 to 10: 8\n"
     ]
    },
    {
     "name": "stdout",
     "output_type": "stream",
     "text": [
      "fail  number of chances left: 1\n",
      "2\n"
     ]
    },
    {
     "name": "stdin",
     "output_type": "stream",
     "text": [
      "enter the number between 1 to 10: 9\n"
     ]
    },
    {
     "name": "stdout",
     "output_type": "stream",
     "text": [
      "fail  number of chances left: 0\n",
      "Try again after 24 hours\n"
     ]
    }
   ],
   "source": [
    "import random\n",
    "i = 0\n",
    "while i < 4:\n",
    "    num1=random.randint(1,10)\n",
    "    print(num1)\n",
    "    num2=eval(input('enter the number between 1 to 10:'))\n",
    "    chances=3-i\n",
    "    if num1==num2:\n",
    "       print('won')\n",
    "       break\n",
    "    else:\n",
    "       print(\"fail  number of chances left:\",chances)\n",
    "    if i==3:\n",
    "       print(\"Try again after 24 hours\")\n",
    "    i = i+1"
   ]
  },
  {
   "cell_type": "code",
   "execution_count": null,
   "id": "011a817b-12f5-42ff-bf2c-e0147f82859b",
   "metadata": {},
   "outputs": [],
   "source": [
    "#11)wap ask the user get 5 random numbers\n",
    "# Get it is an even number or odd number\n",
    "# also count how many even numbers are there\n",
    "# and  count how many odd numbers are there\n",
    "\n",
    "# Idea\n",
    "# take two counters one even and odd count\n",
    "# For loop 5 times\n",
    "# each time take the random number\n",
    "# If condition\n",
    "#    True counter update\n",
    "# else\n",
    "#   Update the counter"
   ]
  },
  {
   "cell_type": "code",
   "execution_count": 91,
   "id": "e2b51ece-7907-4505-ab98-d493468d689f",
   "metadata": {},
   "outputs": [
    {
     "name": "stdout",
     "output_type": "stream",
     "text": [
      "80\n",
      "95\n",
      "85\n",
      "94\n",
      "10\n",
      "total no of even numbers are:3\n",
      "total no of odd numbers are:2\n"
     ]
    }
   ],
   "source": [
    "import random\n",
    "even_count = 0 \n",
    "odd_count= 0\n",
    "i = 0\n",
    "while i<5:\n",
    "    i = i+1\n",
    "    a = random.randint(1,100)\n",
    "    print(a)\n",
    "    if a%2==0:\n",
    "        even_count = even_count+1\n",
    "    else:\n",
    "        odd_count = odd_count+1\n",
    "print(f\"total no of even numbers are:{even_count}\")\n",
    "print(f\"total no of odd numbers are:{odd_count}\")"
   ]
  },
  {
   "cell_type": "code",
   "execution_count": null,
   "id": "75322088-8ab4-4157-ab80-b46cf87bd7bb",
   "metadata": {},
   "outputs": [],
   "source": [
    "#12)wap ask the user get 5 random numbers\n",
    "# Get it is an even number or odd number\n",
    "# also count how many even numbers are there\n",
    "# and  count how many odd numbers are there\n",
    "# I want summ even numbers\n",
    "# I want summ odd numbers"
   ]
  },
  {
   "cell_type": "code",
   "execution_count": 93,
   "id": "f10438a5-64a5-4eaa-b48f-0cb6947f9ac5",
   "metadata": {},
   "outputs": [
    {
     "name": "stdout",
     "output_type": "stream",
     "text": [
      "6\n",
      "42\n",
      "33\n",
      "28\n",
      "46\n",
      "The total number of even numbers are: 4\n",
      "The total number of odd numbers are: 1\n",
      "The summation of all even numbers are: 122\n",
      "The summation number all odd numbers are: 33\n"
     ]
    }
   ],
   "source": [
    "import random\n",
    "even_count,odd_count=0,0\n",
    "even_sum,odd_sum=0,0\n",
    "i = 0\n",
    "while i < 5:\n",
    "    i = i+1\n",
    "    num=random.randint(1,100)\n",
    "    print(num)\n",
    "    if num%2==0:\n",
    "        even_count=even_count+1\n",
    "        even_sum=even_sum+num\n",
    "    else:\n",
    "        odd_count=odd_count+1\n",
    "        odd_sum=odd_sum+num\n",
    "print(f\"The total number of even numbers are: {even_count}\")\n",
    "print(f\"The total number of odd numbers are: {odd_count}\")\n",
    "print(f\"The summation of all even numbers are: {even_sum}\")\n",
    "print(f\"The summation number all odd numbers are: {odd_sum}\")\n"
   ]
  },
  {
   "cell_type": "code",
   "execution_count": null,
   "id": "ee2a98e0-5aaf-41da-9876-dceadcfb9418",
   "metadata": {},
   "outputs": [],
   "source": []
  }
 ],
 "metadata": {
  "kernelspec": {
   "display_name": "Python 3 (ipykernel)",
   "language": "python",
   "name": "python3"
  },
  "language_info": {
   "codemirror_mode": {
    "name": "ipython",
    "version": 3
   },
   "file_extension": ".py",
   "mimetype": "text/x-python",
   "name": "python",
   "nbconvert_exporter": "python",
   "pygments_lexer": "ipython3",
   "version": "3.11.7"
  }
 },
 "nbformat": 4,
 "nbformat_minor": 5
}
